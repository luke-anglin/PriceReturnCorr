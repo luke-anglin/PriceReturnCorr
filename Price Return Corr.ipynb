{
 "cells": [
  {
   "attachments": {},
   "cell_type": "markdown",
   "id": "0d283758",
   "metadata": {},
   "source": [
    "# Takeaways\n",
    "\n",
    "* Correlations between Credit, Funding, and Safe Assets with S&P Price Returns are negative as hypothesized, but small \n",
    "* As the time period increases, this trend begins to reverse \n",
    "* With about 95% accuracy, using just Credit, Funding, and Safe Assets, one can predict whether the Price Return will be positive or negative in the 3 month, 6 month, and 12 month time range \n",
    "    * Of course, this is based on historical data, and is not necessarily applicable as a predictive model in the future "
   ]
  },
  {
   "attachments": {},
   "cell_type": "markdown",
   "id": "00e4b413",
   "metadata": {},
   "source": [
    "# Notes for next step \n",
    "\n",
    "* Rolling window - maximize abs value of correlation \n",
    "* **Slope** - cap rolling window size at 1 month \n",
    "* Percentage change rather than the absolute dollar (based on initial)\n",
    "* 1 month, 3 month, 6 month, 12 month \n",
    "* Superimpose S&P (scaled) onto Funding (scaled) line chart "
   ]
  },
  {
   "cell_type": "markdown",
   "id": "06d32218",
   "metadata": {},
   "source": [
    "# Libraries"
   ]
  },
  {
   "cell_type": "code",
   "execution_count": 4,
   "id": "74f4a446",
   "metadata": {},
   "outputs": [],
   "source": [
    "import pandas as pd\n",
    "import numpy as np\n",
    "# display the DataFrame with only 2 decimal places\n",
    "pd.options.display.float_format = '{:.2f}'.format"
   ]
  },
  {
   "attachments": {},
   "cell_type": "markdown",
   "id": "0df18576",
   "metadata": {},
   "source": [
    "# Assumptions"
   ]
  },
  {
   "attachments": {},
   "cell_type": "markdown",
   "id": "54b26b34",
   "metadata": {},
   "source": [
    "Assumptions I make will be listed below. \n",
    "* Used **yahoo finance data** for S&P 500 prices - https://finance.yahoo.com/quote/%5EGSPC/history?p=%255EGSPC&nn=1 (used the API, as this is not available for download by conventional users)\n"
   ]
  },
  {
   "attachments": {},
   "cell_type": "markdown",
   "id": "98957b29",
   "metadata": {},
   "source": [
    "# Plan\n",
    "\n",
    "1. Read in CSV from Excel \n",
    "    * Clean date into datetime\n",
    "2. Find a S&P 500 Price Return (no dividend included in return) from online, list source in assumptions so it can be verified\n",
    "3. Add a column with S&P price return \n",
    "    * The intervals I will use are 90 day, 180 day, and 360 day (~3 month, ~6 month, ~12 month intervals)\n",
    "    * Close to close values are used ()"
   ]
  },
  {
   "attachments": {},
   "cell_type": "markdown",
   "id": "2d5aba18",
   "metadata": {},
   "source": [
    "# 1 - Reading in CSV"
   ]
  },
  {
   "cell_type": "code",
   "execution_count": 5,
   "id": "ea97ae9d",
   "metadata": {},
   "outputs": [
    {
     "data": {
      "text/html": [
       "<div>\n",
       "<style scoped>\n",
       "    .dataframe tbody tr th:only-of-type {\n",
       "        vertical-align: middle;\n",
       "    }\n",
       "\n",
       "    .dataframe tbody tr th {\n",
       "        vertical-align: top;\n",
       "    }\n",
       "\n",
       "    .dataframe thead th {\n",
       "        text-align: right;\n",
       "    }\n",
       "</style>\n",
       "<table border=\"1\" class=\"dataframe\">\n",
       "  <thead>\n",
       "    <tr style=\"text-align: right;\">\n",
       "      <th></th>\n",
       "      <th>Date</th>\n",
       "      <th>OFR FSI</th>\n",
       "      <th>Credit</th>\n",
       "      <th>Equity valuation</th>\n",
       "      <th>Safe assets</th>\n",
       "      <th>Funding</th>\n",
       "      <th>Volatility</th>\n",
       "      <th>United States</th>\n",
       "      <th>Other advanced economies</th>\n",
       "      <th>Emerging markets</th>\n",
       "    </tr>\n",
       "  </thead>\n",
       "  <tbody>\n",
       "    <tr>\n",
       "      <th>0</th>\n",
       "      <td>2000-01-03</td>\n",
       "      <td>2.14</td>\n",
       "      <td>0.54</td>\n",
       "      <td>-0.05</td>\n",
       "      <td>0.67</td>\n",
       "      <td>0.47</td>\n",
       "      <td>0.51</td>\n",
       "      <td>1.77</td>\n",
       "      <td>0.52</td>\n",
       "      <td>-0.15</td>\n",
       "    </tr>\n",
       "    <tr>\n",
       "      <th>1</th>\n",
       "      <td>2000-01-04</td>\n",
       "      <td>2.42</td>\n",
       "      <td>0.60</td>\n",
       "      <td>0.08</td>\n",
       "      <td>0.63</td>\n",
       "      <td>0.55</td>\n",
       "      <td>0.56</td>\n",
       "      <td>2.08</td>\n",
       "      <td>0.47</td>\n",
       "      <td>-0.14</td>\n",
       "    </tr>\n",
       "    <tr>\n",
       "      <th>2</th>\n",
       "      <td>2000-01-05</td>\n",
       "      <td>2.30</td>\n",
       "      <td>0.57</td>\n",
       "      <td>0.08</td>\n",
       "      <td>0.65</td>\n",
       "      <td>0.50</td>\n",
       "      <td>0.49</td>\n",
       "      <td>2.02</td>\n",
       "      <td>0.41</td>\n",
       "      <td>-0.13</td>\n",
       "    </tr>\n",
       "    <tr>\n",
       "      <th>3</th>\n",
       "      <td>2000-01-06</td>\n",
       "      <td>2.29</td>\n",
       "      <td>0.55</td>\n",
       "      <td>0.08</td>\n",
       "      <td>0.58</td>\n",
       "      <td>0.57</td>\n",
       "      <td>0.52</td>\n",
       "      <td>2.06</td>\n",
       "      <td>0.35</td>\n",
       "      <td>-0.13</td>\n",
       "    </tr>\n",
       "    <tr>\n",
       "      <th>4</th>\n",
       "      <td>2000-01-07</td>\n",
       "      <td>2.00</td>\n",
       "      <td>0.66</td>\n",
       "      <td>-0.01</td>\n",
       "      <td>0.52</td>\n",
       "      <td>0.56</td>\n",
       "      <td>0.27</td>\n",
       "      <td>1.77</td>\n",
       "      <td>0.37</td>\n",
       "      <td>-0.13</td>\n",
       "    </tr>\n",
       "    <tr>\n",
       "      <th>...</th>\n",
       "      <td>...</td>\n",
       "      <td>...</td>\n",
       "      <td>...</td>\n",
       "      <td>...</td>\n",
       "      <td>...</td>\n",
       "      <td>...</td>\n",
       "      <td>...</td>\n",
       "      <td>...</td>\n",
       "      <td>...</td>\n",
       "      <td>...</td>\n",
       "    </tr>\n",
       "    <tr>\n",
       "      <th>5874</th>\n",
       "      <td>2023-04-25</td>\n",
       "      <td>-0.35</td>\n",
       "      <td>0.22</td>\n",
       "      <td>-0.12</td>\n",
       "      <td>-0.09</td>\n",
       "      <td>-0.53</td>\n",
       "      <td>0.18</td>\n",
       "      <td>-0.09</td>\n",
       "      <td>-0.42</td>\n",
       "      <td>0.17</td>\n",
       "    </tr>\n",
       "    <tr>\n",
       "      <th>5875</th>\n",
       "      <td>2023-04-26</td>\n",
       "      <td>-0.26</td>\n",
       "      <td>0.23</td>\n",
       "      <td>-0.10</td>\n",
       "      <td>-0.10</td>\n",
       "      <td>-0.49</td>\n",
       "      <td>0.20</td>\n",
       "      <td>-0.07</td>\n",
       "      <td>-0.35</td>\n",
       "      <td>0.16</td>\n",
       "    </tr>\n",
       "    <tr>\n",
       "      <th>5876</th>\n",
       "      <td>2023-04-27</td>\n",
       "      <td>-0.67</td>\n",
       "      <td>0.19</td>\n",
       "      <td>-0.14</td>\n",
       "      <td>-0.13</td>\n",
       "      <td>-0.65</td>\n",
       "      <td>0.06</td>\n",
       "      <td>-0.34</td>\n",
       "      <td>-0.47</td>\n",
       "      <td>0.15</td>\n",
       "    </tr>\n",
       "    <tr>\n",
       "      <th>5877</th>\n",
       "      <td>2023-04-28</td>\n",
       "      <td>-0.68</td>\n",
       "      <td>0.19</td>\n",
       "      <td>-0.18</td>\n",
       "      <td>-0.12</td>\n",
       "      <td>-0.52</td>\n",
       "      <td>-0.06</td>\n",
       "      <td>-0.32</td>\n",
       "      <td>-0.50</td>\n",
       "      <td>0.13</td>\n",
       "    </tr>\n",
       "    <tr>\n",
       "      <th>5878</th>\n",
       "      <td>2023-05-01</td>\n",
       "      <td>-0.69</td>\n",
       "      <td>0.17</td>\n",
       "      <td>-0.17</td>\n",
       "      <td>-0.15</td>\n",
       "      <td>-0.50</td>\n",
       "      <td>-0.04</td>\n",
       "      <td>-0.33</td>\n",
       "      <td>-0.48</td>\n",
       "      <td>0.11</td>\n",
       "    </tr>\n",
       "  </tbody>\n",
       "</table>\n",
       "<p>5879 rows × 10 columns</p>\n",
       "</div>"
      ],
      "text/plain": [
       "           Date  OFR FSI  Credit  Equity valuation  Safe assets  Funding   \n",
       "0    2000-01-03     2.14    0.54             -0.05         0.67     0.47  \\\n",
       "1    2000-01-04     2.42    0.60              0.08         0.63     0.55   \n",
       "2    2000-01-05     2.30    0.57              0.08         0.65     0.50   \n",
       "3    2000-01-06     2.29    0.55              0.08         0.58     0.57   \n",
       "4    2000-01-07     2.00    0.66             -0.01         0.52     0.56   \n",
       "...         ...      ...     ...               ...          ...      ...   \n",
       "5874 2023-04-25    -0.35    0.22             -0.12        -0.09    -0.53   \n",
       "5875 2023-04-26    -0.26    0.23             -0.10        -0.10    -0.49   \n",
       "5876 2023-04-27    -0.67    0.19             -0.14        -0.13    -0.65   \n",
       "5877 2023-04-28    -0.68    0.19             -0.18        -0.12    -0.52   \n",
       "5878 2023-05-01    -0.69    0.17             -0.17        -0.15    -0.50   \n",
       "\n",
       "      Volatility  United States  Other advanced economies  Emerging markets  \n",
       "0           0.51           1.77                      0.52             -0.15  \n",
       "1           0.56           2.08                      0.47             -0.14  \n",
       "2           0.49           2.02                      0.41             -0.13  \n",
       "3           0.52           2.06                      0.35             -0.13  \n",
       "4           0.27           1.77                      0.37             -0.13  \n",
       "...          ...            ...                       ...               ...  \n",
       "5874        0.18          -0.09                     -0.42              0.17  \n",
       "5875        0.20          -0.07                     -0.35              0.16  \n",
       "5876        0.06          -0.34                     -0.47              0.15  \n",
       "5877       -0.06          -0.32                     -0.50              0.13  \n",
       "5878       -0.04          -0.33                     -0.48              0.11  \n",
       "\n",
       "[5879 rows x 10 columns]"
      ]
     },
     "execution_count": 5,
     "metadata": {},
     "output_type": "execute_result"
    }
   ],
   "source": [
    "data = pd.read_csv('./fsi.csv')\n",
    "data['Date'] = pd.to_datetime(data['Date'], format='%m/%d/%y') \n",
    "data"
   ]
  },
  {
   "attachments": {},
   "cell_type": "markdown",
   "id": "d90d5972",
   "metadata": {},
   "source": [
    "# 2 - Bring in S&P Data & More Cleaning of Data "
   ]
  },
  {
   "cell_type": "code",
   "execution_count": 6,
   "id": "6b4728f1",
   "metadata": {},
   "outputs": [
    {
     "name": "stdout",
     "output_type": "stream",
     "text": [
      "[*********************100%***********************]  1 of 1 completed\n"
     ]
    },
    {
     "data": {
      "text/html": [
       "<div>\n",
       "<style scoped>\n",
       "    .dataframe tbody tr th:only-of-type {\n",
       "        vertical-align: middle;\n",
       "    }\n",
       "\n",
       "    .dataframe tbody tr th {\n",
       "        vertical-align: top;\n",
       "    }\n",
       "\n",
       "    .dataframe thead th {\n",
       "        text-align: right;\n",
       "    }\n",
       "</style>\n",
       "<table border=\"1\" class=\"dataframe\">\n",
       "  <thead>\n",
       "    <tr style=\"text-align: right;\">\n",
       "      <th></th>\n",
       "      <th>Date</th>\n",
       "      <th>Open</th>\n",
       "      <th>High</th>\n",
       "      <th>Low</th>\n",
       "      <th>Close</th>\n",
       "      <th>Adj Close</th>\n",
       "      <th>Volume</th>\n",
       "      <th>3MonPriceReturn</th>\n",
       "      <th>6MonPriceReturn</th>\n",
       "      <th>12MonPriceReturn</th>\n",
       "      <th>36MonPriceReturn</th>\n",
       "      <th>60MonPriceReturn</th>\n",
       "      <th>120MonPriceReturn</th>\n",
       "    </tr>\n",
       "  </thead>\n",
       "  <tbody>\n",
       "    <tr>\n",
       "      <th>0</th>\n",
       "      <td>2000-01-03</td>\n",
       "      <td>1469.25</td>\n",
       "      <td>1478.00</td>\n",
       "      <td>1438.36</td>\n",
       "      <td>1455.22</td>\n",
       "      <td>1455.22</td>\n",
       "      <td>931800000</td>\n",
       "      <td>50.75</td>\n",
       "      <td>14.32</td>\n",
       "      <td>-171.95</td>\n",
       "      <td>-545.29</td>\n",
       "      <td>-269.03</td>\n",
       "      <td>-308.24</td>\n",
       "    </tr>\n",
       "    <tr>\n",
       "      <th>1</th>\n",
       "      <td>2000-01-04</td>\n",
       "      <td>1455.22</td>\n",
       "      <td>1455.22</td>\n",
       "      <td>1397.43</td>\n",
       "      <td>1399.42</td>\n",
       "      <td>1399.42</td>\n",
       "      <td>1009000000</td>\n",
       "      <td>95.31</td>\n",
       "      <td>46.81</td>\n",
       "      <td>-51.86</td>\n",
       "      <td>-471.85</td>\n",
       "      <td>-209.17</td>\n",
       "      <td>-263.20</td>\n",
       "    </tr>\n",
       "    <tr>\n",
       "      <th>2</th>\n",
       "      <td>2000-01-05</td>\n",
       "      <td>1399.42</td>\n",
       "      <td>1413.27</td>\n",
       "      <td>1377.68</td>\n",
       "      <td>1402.11</td>\n",
       "      <td>1402.11</td>\n",
       "      <td>1085500000</td>\n",
       "      <td>85.26</td>\n",
       "      <td>54.56</td>\n",
       "      <td>-68.77</td>\n",
       "      <td>-474.54</td>\n",
       "      <td>-219.12</td>\n",
       "      <td>-256.43</td>\n",
       "    </tr>\n",
       "    <tr>\n",
       "      <th>3</th>\n",
       "      <td>2000-01-06</td>\n",
       "      <td>1402.11</td>\n",
       "      <td>1411.90</td>\n",
       "      <td>1392.10</td>\n",
       "      <td>1403.45</td>\n",
       "      <td>1403.45</td>\n",
       "      <td>1092300000</td>\n",
       "      <td>97.89</td>\n",
       "      <td>75.45</td>\n",
       "      <td>-105.10</td>\n",
       "      <td>-477.19</td>\n",
       "      <td>-215.75</td>\n",
       "      <td>-254.99</td>\n",
       "    </tr>\n",
       "    <tr>\n",
       "      <th>4</th>\n",
       "      <td>2000-01-07</td>\n",
       "      <td>1403.45</td>\n",
       "      <td>1441.47</td>\n",
       "      <td>1400.73</td>\n",
       "      <td>1441.47</td>\n",
       "      <td>1441.47</td>\n",
       "      <td>1225200000</td>\n",
       "      <td>74.88</td>\n",
       "      <td>34.15</td>\n",
       "      <td>-145.61</td>\n",
       "      <td>-509.81</td>\n",
       "      <td>-264.02</td>\n",
       "      <td>-305.44</td>\n",
       "    </tr>\n",
       "    <tr>\n",
       "      <th>...</th>\n",
       "      <td>...</td>\n",
       "      <td>...</td>\n",
       "      <td>...</td>\n",
       "      <td>...</td>\n",
       "      <td>...</td>\n",
       "      <td>...</td>\n",
       "      <td>...</td>\n",
       "      <td>...</td>\n",
       "      <td>...</td>\n",
       "      <td>...</td>\n",
       "      <td>...</td>\n",
       "      <td>...</td>\n",
       "      <td>...</td>\n",
       "    </tr>\n",
       "    <tr>\n",
       "      <th>5864</th>\n",
       "      <td>2023-04-25</td>\n",
       "      <td>4126.43</td>\n",
       "      <td>4126.43</td>\n",
       "      <td>4071.38</td>\n",
       "      <td>4071.63</td>\n",
       "      <td>4071.63</td>\n",
       "      <td>3978640000</td>\n",
       "      <td>NaN</td>\n",
       "      <td>NaN</td>\n",
       "      <td>NaN</td>\n",
       "      <td>NaN</td>\n",
       "      <td>NaN</td>\n",
       "      <td>NaN</td>\n",
       "    </tr>\n",
       "    <tr>\n",
       "      <th>5865</th>\n",
       "      <td>2023-04-26</td>\n",
       "      <td>4087.78</td>\n",
       "      <td>4089.67</td>\n",
       "      <td>4049.35</td>\n",
       "      <td>4055.99</td>\n",
       "      <td>4055.99</td>\n",
       "      <td>3837030000</td>\n",
       "      <td>NaN</td>\n",
       "      <td>NaN</td>\n",
       "      <td>NaN</td>\n",
       "      <td>NaN</td>\n",
       "      <td>NaN</td>\n",
       "      <td>NaN</td>\n",
       "    </tr>\n",
       "    <tr>\n",
       "      <th>5866</th>\n",
       "      <td>2023-04-27</td>\n",
       "      <td>4075.29</td>\n",
       "      <td>4138.24</td>\n",
       "      <td>4075.29</td>\n",
       "      <td>4135.35</td>\n",
       "      <td>4135.35</td>\n",
       "      <td>3750550000</td>\n",
       "      <td>NaN</td>\n",
       "      <td>NaN</td>\n",
       "      <td>NaN</td>\n",
       "      <td>NaN</td>\n",
       "      <td>NaN</td>\n",
       "      <td>NaN</td>\n",
       "    </tr>\n",
       "    <tr>\n",
       "      <th>5867</th>\n",
       "      <td>2023-04-28</td>\n",
       "      <td>4129.63</td>\n",
       "      <td>4170.06</td>\n",
       "      <td>4127.18</td>\n",
       "      <td>4169.48</td>\n",
       "      <td>4169.48</td>\n",
       "      <td>4087800000</td>\n",
       "      <td>NaN</td>\n",
       "      <td>NaN</td>\n",
       "      <td>NaN</td>\n",
       "      <td>NaN</td>\n",
       "      <td>NaN</td>\n",
       "      <td>NaN</td>\n",
       "    </tr>\n",
       "    <tr>\n",
       "      <th>5868</th>\n",
       "      <td>2023-05-01</td>\n",
       "      <td>4166.79</td>\n",
       "      <td>4186.92</td>\n",
       "      <td>4164.12</td>\n",
       "      <td>4167.87</td>\n",
       "      <td>4167.87</td>\n",
       "      <td>3321370000</td>\n",
       "      <td>NaN</td>\n",
       "      <td>NaN</td>\n",
       "      <td>NaN</td>\n",
       "      <td>NaN</td>\n",
       "      <td>NaN</td>\n",
       "      <td>NaN</td>\n",
       "    </tr>\n",
       "  </tbody>\n",
       "</table>\n",
       "<p>5869 rows × 13 columns</p>\n",
       "</div>"
      ],
      "text/plain": [
       "           Date    Open    High     Low   Close  Adj Close      Volume   \n",
       "0    2000-01-03 1469.25 1478.00 1438.36 1455.22    1455.22   931800000  \\\n",
       "1    2000-01-04 1455.22 1455.22 1397.43 1399.42    1399.42  1009000000   \n",
       "2    2000-01-05 1399.42 1413.27 1377.68 1402.11    1402.11  1085500000   \n",
       "3    2000-01-06 1402.11 1411.90 1392.10 1403.45    1403.45  1092300000   \n",
       "4    2000-01-07 1403.45 1441.47 1400.73 1441.47    1441.47  1225200000   \n",
       "...         ...     ...     ...     ...     ...        ...         ...   \n",
       "5864 2023-04-25 4126.43 4126.43 4071.38 4071.63    4071.63  3978640000   \n",
       "5865 2023-04-26 4087.78 4089.67 4049.35 4055.99    4055.99  3837030000   \n",
       "5866 2023-04-27 4075.29 4138.24 4075.29 4135.35    4135.35  3750550000   \n",
       "5867 2023-04-28 4129.63 4170.06 4127.18 4169.48    4169.48  4087800000   \n",
       "5868 2023-05-01 4166.79 4186.92 4164.12 4167.87    4167.87  3321370000   \n",
       "\n",
       "      3MonPriceReturn  6MonPriceReturn  12MonPriceReturn  36MonPriceReturn   \n",
       "0               50.75            14.32           -171.95           -545.29  \\\n",
       "1               95.31            46.81            -51.86           -471.85   \n",
       "2               85.26            54.56            -68.77           -474.54   \n",
       "3               97.89            75.45           -105.10           -477.19   \n",
       "4               74.88            34.15           -145.61           -509.81   \n",
       "...               ...              ...               ...               ...   \n",
       "5864              NaN              NaN               NaN               NaN   \n",
       "5865              NaN              NaN               NaN               NaN   \n",
       "5866              NaN              NaN               NaN               NaN   \n",
       "5867              NaN              NaN               NaN               NaN   \n",
       "5868              NaN              NaN               NaN               NaN   \n",
       "\n",
       "      60MonPriceReturn  120MonPriceReturn  \n",
       "0              -269.03            -308.24  \n",
       "1              -209.17            -263.20  \n",
       "2              -219.12            -256.43  \n",
       "3              -215.75            -254.99  \n",
       "4              -264.02            -305.44  \n",
       "...                ...                ...  \n",
       "5864               NaN                NaN  \n",
       "5865               NaN                NaN  \n",
       "5866               NaN                NaN  \n",
       "5867               NaN                NaN  \n",
       "5868               NaN                NaN  \n",
       "\n",
       "[5869 rows x 13 columns]"
      ]
     },
     "execution_count": 6,
     "metadata": {},
     "output_type": "execute_result"
    }
   ],
   "source": [
    "from pandas_datareader import data as pdr\n",
    "import datetime as dt\n",
    "import yfinance as yfin \n",
    "yfin.pdr_override()\n",
    "\n",
    "start_date = dt.datetime(2001, 1, 1)\n",
    "end_date = dt.datetime(2023, 5, 2)\n",
    "\n",
    "df = pdr.get_data_yahoo(\"^GSPC\", start=\"2000-01-03\", end=\"2023-05-02\")\n",
    "df = df.reset_index()\n",
    "# \n",
    "df[\"3MonPriceReturn\"] = df[\"Close\"].shift(-1 * int(365.25 / 4 * .69)) - df[\"Close\"]\n",
    "df[\"6MonPriceReturn\"] = df[\"Close\"].shift(-1 * int(365.25 / 2 * .69)) - df[\"Close\"]\n",
    "df[\"12MonPriceReturn\"] = df[\"Close\"].shift(-1 * int(365.25 * .69)) - df[\"Close\"]\n",
    "df[\"36MonPriceReturn\"] = df[\"Close\"].shift(-1 * int(365.25 * 3 * .69)) - df[\"Close\"]\n",
    "df[\"60MonPriceReturn\"] = df[\"Close\"].shift(-1 * int(365.25 * 5 * .69)) - df[\"Close\"]\n",
    "df[\"120MonPriceReturn\"] = df[\"Close\"].shift(-1 * int(365.25 * 10 * .69)) - df[\"Close\"]\n",
    "\n",
    "\n",
    "df"
   ]
  },
  {
   "cell_type": "markdown",
   "id": "31778255",
   "metadata": {},
   "source": [
    "It is expected that the last 90 rows of 3 Month Price Return, 180 of 6 Month Price Return, and last 360 of 12 Month Price Return will be NULL (NaN)"
   ]
  },
  {
   "cell_type": "code",
   "execution_count": 7,
   "id": "7b76bc17",
   "metadata": {},
   "outputs": [
    {
     "data": {
      "text/html": [
       "<div>\n",
       "<style scoped>\n",
       "    .dataframe tbody tr th:only-of-type {\n",
       "        vertical-align: middle;\n",
       "    }\n",
       "\n",
       "    .dataframe tbody tr th {\n",
       "        vertical-align: top;\n",
       "    }\n",
       "\n",
       "    .dataframe thead th {\n",
       "        text-align: right;\n",
       "    }\n",
       "</style>\n",
       "<table border=\"1\" class=\"dataframe\">\n",
       "  <thead>\n",
       "    <tr style=\"text-align: right;\">\n",
       "      <th></th>\n",
       "      <th>Date</th>\n",
       "      <th>Open</th>\n",
       "      <th>High</th>\n",
       "      <th>Low</th>\n",
       "      <th>Close</th>\n",
       "      <th>Adj Close</th>\n",
       "      <th>Volume</th>\n",
       "      <th>3MonPriceReturn</th>\n",
       "      <th>6MonPriceReturn</th>\n",
       "      <th>12MonPriceReturn</th>\n",
       "      <th>...</th>\n",
       "      <th>120MonPriceReturn</th>\n",
       "      <th>OFR FSI</th>\n",
       "      <th>Credit</th>\n",
       "      <th>Equity valuation</th>\n",
       "      <th>Safe assets</th>\n",
       "      <th>Funding</th>\n",
       "      <th>Volatility</th>\n",
       "      <th>United States</th>\n",
       "      <th>Other advanced economies</th>\n",
       "      <th>Emerging markets</th>\n",
       "    </tr>\n",
       "  </thead>\n",
       "  <tbody>\n",
       "    <tr>\n",
       "      <th>0</th>\n",
       "      <td>2000-01-03</td>\n",
       "      <td>1469.25</td>\n",
       "      <td>1478.00</td>\n",
       "      <td>1438.36</td>\n",
       "      <td>1455.22</td>\n",
       "      <td>1455.22</td>\n",
       "      <td>931800000</td>\n",
       "      <td>50.75</td>\n",
       "      <td>14.32</td>\n",
       "      <td>-171.95</td>\n",
       "      <td>...</td>\n",
       "      <td>-308.24</td>\n",
       "      <td>2.14</td>\n",
       "      <td>0.54</td>\n",
       "      <td>-0.05</td>\n",
       "      <td>0.67</td>\n",
       "      <td>0.47</td>\n",
       "      <td>0.51</td>\n",
       "      <td>1.77</td>\n",
       "      <td>0.52</td>\n",
       "      <td>-0.15</td>\n",
       "    </tr>\n",
       "    <tr>\n",
       "      <th>1</th>\n",
       "      <td>2000-01-04</td>\n",
       "      <td>1455.22</td>\n",
       "      <td>1455.22</td>\n",
       "      <td>1397.43</td>\n",
       "      <td>1399.42</td>\n",
       "      <td>1399.42</td>\n",
       "      <td>1009000000</td>\n",
       "      <td>95.31</td>\n",
       "      <td>46.81</td>\n",
       "      <td>-51.86</td>\n",
       "      <td>...</td>\n",
       "      <td>-263.20</td>\n",
       "      <td>2.42</td>\n",
       "      <td>0.60</td>\n",
       "      <td>0.08</td>\n",
       "      <td>0.63</td>\n",
       "      <td>0.55</td>\n",
       "      <td>0.56</td>\n",
       "      <td>2.08</td>\n",
       "      <td>0.47</td>\n",
       "      <td>-0.14</td>\n",
       "    </tr>\n",
       "    <tr>\n",
       "      <th>2</th>\n",
       "      <td>2000-01-05</td>\n",
       "      <td>1399.42</td>\n",
       "      <td>1413.27</td>\n",
       "      <td>1377.68</td>\n",
       "      <td>1402.11</td>\n",
       "      <td>1402.11</td>\n",
       "      <td>1085500000</td>\n",
       "      <td>85.26</td>\n",
       "      <td>54.56</td>\n",
       "      <td>-68.77</td>\n",
       "      <td>...</td>\n",
       "      <td>-256.43</td>\n",
       "      <td>2.30</td>\n",
       "      <td>0.57</td>\n",
       "      <td>0.08</td>\n",
       "      <td>0.65</td>\n",
       "      <td>0.50</td>\n",
       "      <td>0.49</td>\n",
       "      <td>2.02</td>\n",
       "      <td>0.41</td>\n",
       "      <td>-0.13</td>\n",
       "    </tr>\n",
       "    <tr>\n",
       "      <th>3</th>\n",
       "      <td>2000-01-06</td>\n",
       "      <td>1402.11</td>\n",
       "      <td>1411.90</td>\n",
       "      <td>1392.10</td>\n",
       "      <td>1403.45</td>\n",
       "      <td>1403.45</td>\n",
       "      <td>1092300000</td>\n",
       "      <td>97.89</td>\n",
       "      <td>75.45</td>\n",
       "      <td>-105.10</td>\n",
       "      <td>...</td>\n",
       "      <td>-254.99</td>\n",
       "      <td>2.29</td>\n",
       "      <td>0.55</td>\n",
       "      <td>0.08</td>\n",
       "      <td>0.58</td>\n",
       "      <td>0.57</td>\n",
       "      <td>0.52</td>\n",
       "      <td>2.06</td>\n",
       "      <td>0.35</td>\n",
       "      <td>-0.13</td>\n",
       "    </tr>\n",
       "    <tr>\n",
       "      <th>4</th>\n",
       "      <td>2000-01-07</td>\n",
       "      <td>1403.45</td>\n",
       "      <td>1441.47</td>\n",
       "      <td>1400.73</td>\n",
       "      <td>1441.47</td>\n",
       "      <td>1441.47</td>\n",
       "      <td>1225200000</td>\n",
       "      <td>74.88</td>\n",
       "      <td>34.15</td>\n",
       "      <td>-145.61</td>\n",
       "      <td>...</td>\n",
       "      <td>-305.44</td>\n",
       "      <td>2.00</td>\n",
       "      <td>0.66</td>\n",
       "      <td>-0.01</td>\n",
       "      <td>0.52</td>\n",
       "      <td>0.56</td>\n",
       "      <td>0.27</td>\n",
       "      <td>1.77</td>\n",
       "      <td>0.37</td>\n",
       "      <td>-0.13</td>\n",
       "    </tr>\n",
       "  </tbody>\n",
       "</table>\n",
       "<p>5 rows × 22 columns</p>\n",
       "</div>"
      ],
      "text/plain": [
       "        Date    Open    High     Low   Close  Adj Close      Volume   \n",
       "0 2000-01-03 1469.25 1478.00 1438.36 1455.22    1455.22   931800000  \\\n",
       "1 2000-01-04 1455.22 1455.22 1397.43 1399.42    1399.42  1009000000   \n",
       "2 2000-01-05 1399.42 1413.27 1377.68 1402.11    1402.11  1085500000   \n",
       "3 2000-01-06 1402.11 1411.90 1392.10 1403.45    1403.45  1092300000   \n",
       "4 2000-01-07 1403.45 1441.47 1400.73 1441.47    1441.47  1225200000   \n",
       "\n",
       "   3MonPriceReturn  6MonPriceReturn  12MonPriceReturn  ...  120MonPriceReturn   \n",
       "0            50.75            14.32           -171.95  ...            -308.24  \\\n",
       "1            95.31            46.81            -51.86  ...            -263.20   \n",
       "2            85.26            54.56            -68.77  ...            -256.43   \n",
       "3            97.89            75.45           -105.10  ...            -254.99   \n",
       "4            74.88            34.15           -145.61  ...            -305.44   \n",
       "\n",
       "   OFR FSI  Credit  Equity valuation  Safe assets  Funding  Volatility   \n",
       "0     2.14    0.54             -0.05         0.67     0.47        0.51  \\\n",
       "1     2.42    0.60              0.08         0.63     0.55        0.56   \n",
       "2     2.30    0.57              0.08         0.65     0.50        0.49   \n",
       "3     2.29    0.55              0.08         0.58     0.57        0.52   \n",
       "4     2.00    0.66             -0.01         0.52     0.56        0.27   \n",
       "\n",
       "   United States  Other advanced economies  Emerging markets  \n",
       "0           1.77                      0.52             -0.15  \n",
       "1           2.08                      0.47             -0.14  \n",
       "2           2.02                      0.41             -0.13  \n",
       "3           2.06                      0.35             -0.13  \n",
       "4           1.77                      0.37             -0.13  \n",
       "\n",
       "[5 rows x 22 columns]"
      ]
     },
     "execution_count": 7,
     "metadata": {},
     "output_type": "execute_result"
    }
   ],
   "source": [
    "clean_data_begin = df.merge(data, on = 'Date')\n",
    "clean_data_begin.head()"
   ]
  },
  {
   "cell_type": "code",
   "execution_count": 8,
   "id": "7be65f94",
   "metadata": {},
   "outputs": [
    {
     "data": {
      "text/html": [
       "<div>\n",
       "<style scoped>\n",
       "    .dataframe tbody tr th:only-of-type {\n",
       "        vertical-align: middle;\n",
       "    }\n",
       "\n",
       "    .dataframe tbody tr th {\n",
       "        vertical-align: top;\n",
       "    }\n",
       "\n",
       "    .dataframe thead th {\n",
       "        text-align: right;\n",
       "    }\n",
       "</style>\n",
       "<table border=\"1\" class=\"dataframe\">\n",
       "  <thead>\n",
       "    <tr style=\"text-align: right;\">\n",
       "      <th></th>\n",
       "      <th>Date</th>\n",
       "      <th>Close</th>\n",
       "      <th>Credit</th>\n",
       "      <th>Safe assets</th>\n",
       "      <th>Funding</th>\n",
       "      <th>OFR FSI</th>\n",
       "      <th>3MonPriceReturn</th>\n",
       "      <th>6MonPriceReturn</th>\n",
       "      <th>12MonPriceReturn</th>\n",
       "      <th>36MonPriceReturn</th>\n",
       "      <th>60MonPriceReturn</th>\n",
       "      <th>120MonPriceReturn</th>\n",
       "    </tr>\n",
       "  </thead>\n",
       "  <tbody>\n",
       "    <tr>\n",
       "      <th>0</th>\n",
       "      <td>2000-01-03</td>\n",
       "      <td>1455.22</td>\n",
       "      <td>0.54</td>\n",
       "      <td>0.67</td>\n",
       "      <td>0.47</td>\n",
       "      <td>2.14</td>\n",
       "      <td>50.75</td>\n",
       "      <td>14.32</td>\n",
       "      <td>-171.95</td>\n",
       "      <td>-545.29</td>\n",
       "      <td>-269.03</td>\n",
       "      <td>-308.24</td>\n",
       "    </tr>\n",
       "    <tr>\n",
       "      <th>1</th>\n",
       "      <td>2000-01-04</td>\n",
       "      <td>1399.42</td>\n",
       "      <td>0.60</td>\n",
       "      <td>0.63</td>\n",
       "      <td>0.55</td>\n",
       "      <td>2.42</td>\n",
       "      <td>95.31</td>\n",
       "      <td>46.81</td>\n",
       "      <td>-51.86</td>\n",
       "      <td>-471.85</td>\n",
       "      <td>-209.17</td>\n",
       "      <td>-263.20</td>\n",
       "    </tr>\n",
       "    <tr>\n",
       "      <th>2</th>\n",
       "      <td>2000-01-05</td>\n",
       "      <td>1402.11</td>\n",
       "      <td>0.57</td>\n",
       "      <td>0.65</td>\n",
       "      <td>0.50</td>\n",
       "      <td>2.30</td>\n",
       "      <td>85.26</td>\n",
       "      <td>54.56</td>\n",
       "      <td>-68.77</td>\n",
       "      <td>-474.54</td>\n",
       "      <td>-219.12</td>\n",
       "      <td>-256.43</td>\n",
       "    </tr>\n",
       "    <tr>\n",
       "      <th>3</th>\n",
       "      <td>2000-01-06</td>\n",
       "      <td>1403.45</td>\n",
       "      <td>0.55</td>\n",
       "      <td>0.58</td>\n",
       "      <td>0.57</td>\n",
       "      <td>2.29</td>\n",
       "      <td>97.89</td>\n",
       "      <td>75.45</td>\n",
       "      <td>-105.10</td>\n",
       "      <td>-477.19</td>\n",
       "      <td>-215.75</td>\n",
       "      <td>-254.99</td>\n",
       "    </tr>\n",
       "    <tr>\n",
       "      <th>4</th>\n",
       "      <td>2000-01-07</td>\n",
       "      <td>1441.47</td>\n",
       "      <td>0.66</td>\n",
       "      <td>0.52</td>\n",
       "      <td>0.56</td>\n",
       "      <td>2.00</td>\n",
       "      <td>74.88</td>\n",
       "      <td>34.15</td>\n",
       "      <td>-145.61</td>\n",
       "      <td>-509.81</td>\n",
       "      <td>-264.02</td>\n",
       "      <td>-305.44</td>\n",
       "    </tr>\n",
       "    <tr>\n",
       "      <th>...</th>\n",
       "      <td>...</td>\n",
       "      <td>...</td>\n",
       "      <td>...</td>\n",
       "      <td>...</td>\n",
       "      <td>...</td>\n",
       "      <td>...</td>\n",
       "      <td>...</td>\n",
       "      <td>...</td>\n",
       "      <td>...</td>\n",
       "      <td>...</td>\n",
       "      <td>...</td>\n",
       "      <td>...</td>\n",
       "    </tr>\n",
       "    <tr>\n",
       "      <th>5863</th>\n",
       "      <td>2023-04-25</td>\n",
       "      <td>4071.63</td>\n",
       "      <td>0.22</td>\n",
       "      <td>-0.09</td>\n",
       "      <td>-0.53</td>\n",
       "      <td>-0.35</td>\n",
       "      <td>NaN</td>\n",
       "      <td>NaN</td>\n",
       "      <td>NaN</td>\n",
       "      <td>NaN</td>\n",
       "      <td>NaN</td>\n",
       "      <td>NaN</td>\n",
       "    </tr>\n",
       "    <tr>\n",
       "      <th>5864</th>\n",
       "      <td>2023-04-26</td>\n",
       "      <td>4055.99</td>\n",
       "      <td>0.23</td>\n",
       "      <td>-0.10</td>\n",
       "      <td>-0.49</td>\n",
       "      <td>-0.26</td>\n",
       "      <td>NaN</td>\n",
       "      <td>NaN</td>\n",
       "      <td>NaN</td>\n",
       "      <td>NaN</td>\n",
       "      <td>NaN</td>\n",
       "      <td>NaN</td>\n",
       "    </tr>\n",
       "    <tr>\n",
       "      <th>5865</th>\n",
       "      <td>2023-04-27</td>\n",
       "      <td>4135.35</td>\n",
       "      <td>0.19</td>\n",
       "      <td>-0.13</td>\n",
       "      <td>-0.65</td>\n",
       "      <td>-0.67</td>\n",
       "      <td>NaN</td>\n",
       "      <td>NaN</td>\n",
       "      <td>NaN</td>\n",
       "      <td>NaN</td>\n",
       "      <td>NaN</td>\n",
       "      <td>NaN</td>\n",
       "    </tr>\n",
       "    <tr>\n",
       "      <th>5866</th>\n",
       "      <td>2023-04-28</td>\n",
       "      <td>4169.48</td>\n",
       "      <td>0.19</td>\n",
       "      <td>-0.12</td>\n",
       "      <td>-0.52</td>\n",
       "      <td>-0.68</td>\n",
       "      <td>NaN</td>\n",
       "      <td>NaN</td>\n",
       "      <td>NaN</td>\n",
       "      <td>NaN</td>\n",
       "      <td>NaN</td>\n",
       "      <td>NaN</td>\n",
       "    </tr>\n",
       "    <tr>\n",
       "      <th>5867</th>\n",
       "      <td>2023-05-01</td>\n",
       "      <td>4167.87</td>\n",
       "      <td>0.17</td>\n",
       "      <td>-0.15</td>\n",
       "      <td>-0.50</td>\n",
       "      <td>-0.69</td>\n",
       "      <td>NaN</td>\n",
       "      <td>NaN</td>\n",
       "      <td>NaN</td>\n",
       "      <td>NaN</td>\n",
       "      <td>NaN</td>\n",
       "      <td>NaN</td>\n",
       "    </tr>\n",
       "  </tbody>\n",
       "</table>\n",
       "<p>5868 rows × 12 columns</p>\n",
       "</div>"
      ],
      "text/plain": [
       "           Date   Close  Credit  Safe assets  Funding  OFR FSI   \n",
       "0    2000-01-03 1455.22    0.54         0.67     0.47     2.14  \\\n",
       "1    2000-01-04 1399.42    0.60         0.63     0.55     2.42   \n",
       "2    2000-01-05 1402.11    0.57         0.65     0.50     2.30   \n",
       "3    2000-01-06 1403.45    0.55         0.58     0.57     2.29   \n",
       "4    2000-01-07 1441.47    0.66         0.52     0.56     2.00   \n",
       "...         ...     ...     ...          ...      ...      ...   \n",
       "5863 2023-04-25 4071.63    0.22        -0.09    -0.53    -0.35   \n",
       "5864 2023-04-26 4055.99    0.23        -0.10    -0.49    -0.26   \n",
       "5865 2023-04-27 4135.35    0.19        -0.13    -0.65    -0.67   \n",
       "5866 2023-04-28 4169.48    0.19        -0.12    -0.52    -0.68   \n",
       "5867 2023-05-01 4167.87    0.17        -0.15    -0.50    -0.69   \n",
       "\n",
       "      3MonPriceReturn  6MonPriceReturn  12MonPriceReturn  36MonPriceReturn   \n",
       "0               50.75            14.32           -171.95           -545.29  \\\n",
       "1               95.31            46.81            -51.86           -471.85   \n",
       "2               85.26            54.56            -68.77           -474.54   \n",
       "3               97.89            75.45           -105.10           -477.19   \n",
       "4               74.88            34.15           -145.61           -509.81   \n",
       "...               ...              ...               ...               ...   \n",
       "5863              NaN              NaN               NaN               NaN   \n",
       "5864              NaN              NaN               NaN               NaN   \n",
       "5865              NaN              NaN               NaN               NaN   \n",
       "5866              NaN              NaN               NaN               NaN   \n",
       "5867              NaN              NaN               NaN               NaN   \n",
       "\n",
       "      60MonPriceReturn  120MonPriceReturn  \n",
       "0              -269.03            -308.24  \n",
       "1              -209.17            -263.20  \n",
       "2              -219.12            -256.43  \n",
       "3              -215.75            -254.99  \n",
       "4              -264.02            -305.44  \n",
       "...                ...                ...  \n",
       "5863               NaN                NaN  \n",
       "5864               NaN                NaN  \n",
       "5865               NaN                NaN  \n",
       "5866               NaN                NaN  \n",
       "5867               NaN                NaN  \n",
       "\n",
       "[5868 rows x 12 columns]"
      ]
     },
     "execution_count": 8,
     "metadata": {},
     "output_type": "execute_result"
    }
   ],
   "source": [
    "clean_data = clean_data_begin.loc[:, ['Date', 'Close', 'Credit', 'Safe assets', 'Funding', 'OFR FSI', '3MonPriceReturn', '6MonPriceReturn', '12MonPriceReturn', '36MonPriceReturn', '60MonPriceReturn', '120MonPriceReturn']]\n",
    "clean_data"
   ]
  },
  {
   "cell_type": "code",
   "execution_count": 9,
   "id": "701c1cce",
   "metadata": {},
   "outputs": [
    {
     "data": {
      "text/html": [
       "<div>\n",
       "<style scoped>\n",
       "    .dataframe tbody tr th:only-of-type {\n",
       "        vertical-align: middle;\n",
       "    }\n",
       "\n",
       "    .dataframe tbody tr th {\n",
       "        vertical-align: top;\n",
       "    }\n",
       "\n",
       "    .dataframe thead th {\n",
       "        text-align: right;\n",
       "    }\n",
       "</style>\n",
       "<table border=\"1\" class=\"dataframe\">\n",
       "  <thead>\n",
       "    <tr style=\"text-align: right;\">\n",
       "      <th></th>\n",
       "      <th>Date</th>\n",
       "      <th>Close</th>\n",
       "      <th>Credit</th>\n",
       "      <th>Safe assets</th>\n",
       "      <th>Funding</th>\n",
       "      <th>OFR FSI</th>\n",
       "      <th>3MonPriceReturn</th>\n",
       "      <th>6MonPriceReturn</th>\n",
       "      <th>12MonPriceReturn</th>\n",
       "      <th>36MonPriceReturn</th>\n",
       "      <th>60MonPriceReturn</th>\n",
       "      <th>120MonPriceReturn</th>\n",
       "      <th>Stress sum</th>\n",
       "      <th>Stress avg</th>\n",
       "    </tr>\n",
       "  </thead>\n",
       "  <tbody>\n",
       "    <tr>\n",
       "      <th>0</th>\n",
       "      <td>2000-01-03</td>\n",
       "      <td>1455.22</td>\n",
       "      <td>0.54</td>\n",
       "      <td>0.67</td>\n",
       "      <td>0.47</td>\n",
       "      <td>2.14</td>\n",
       "      <td>50.75</td>\n",
       "      <td>14.32</td>\n",
       "      <td>-171.95</td>\n",
       "      <td>-545.29</td>\n",
       "      <td>-269.03</td>\n",
       "      <td>-308.24</td>\n",
       "      <td>1.68</td>\n",
       "      <td>0.56</td>\n",
       "    </tr>\n",
       "    <tr>\n",
       "      <th>1</th>\n",
       "      <td>2000-01-04</td>\n",
       "      <td>1399.42</td>\n",
       "      <td>0.60</td>\n",
       "      <td>0.63</td>\n",
       "      <td>0.55</td>\n",
       "      <td>2.42</td>\n",
       "      <td>95.31</td>\n",
       "      <td>46.81</td>\n",
       "      <td>-51.86</td>\n",
       "      <td>-471.85</td>\n",
       "      <td>-209.17</td>\n",
       "      <td>-263.20</td>\n",
       "      <td>1.78</td>\n",
       "      <td>0.59</td>\n",
       "    </tr>\n",
       "    <tr>\n",
       "      <th>2</th>\n",
       "      <td>2000-01-05</td>\n",
       "      <td>1402.11</td>\n",
       "      <td>0.57</td>\n",
       "      <td>0.65</td>\n",
       "      <td>0.50</td>\n",
       "      <td>2.30</td>\n",
       "      <td>85.26</td>\n",
       "      <td>54.56</td>\n",
       "      <td>-68.77</td>\n",
       "      <td>-474.54</td>\n",
       "      <td>-219.12</td>\n",
       "      <td>-256.43</td>\n",
       "      <td>1.73</td>\n",
       "      <td>0.58</td>\n",
       "    </tr>\n",
       "    <tr>\n",
       "      <th>3</th>\n",
       "      <td>2000-01-06</td>\n",
       "      <td>1403.45</td>\n",
       "      <td>0.55</td>\n",
       "      <td>0.58</td>\n",
       "      <td>0.57</td>\n",
       "      <td>2.29</td>\n",
       "      <td>97.89</td>\n",
       "      <td>75.45</td>\n",
       "      <td>-105.10</td>\n",
       "      <td>-477.19</td>\n",
       "      <td>-215.75</td>\n",
       "      <td>-254.99</td>\n",
       "      <td>1.69</td>\n",
       "      <td>0.56</td>\n",
       "    </tr>\n",
       "    <tr>\n",
       "      <th>4</th>\n",
       "      <td>2000-01-07</td>\n",
       "      <td>1441.47</td>\n",
       "      <td>0.66</td>\n",
       "      <td>0.52</td>\n",
       "      <td>0.56</td>\n",
       "      <td>2.00</td>\n",
       "      <td>74.88</td>\n",
       "      <td>34.15</td>\n",
       "      <td>-145.61</td>\n",
       "      <td>-509.81</td>\n",
       "      <td>-264.02</td>\n",
       "      <td>-305.44</td>\n",
       "      <td>1.75</td>\n",
       "      <td>0.58</td>\n",
       "    </tr>\n",
       "    <tr>\n",
       "      <th>...</th>\n",
       "      <td>...</td>\n",
       "      <td>...</td>\n",
       "      <td>...</td>\n",
       "      <td>...</td>\n",
       "      <td>...</td>\n",
       "      <td>...</td>\n",
       "      <td>...</td>\n",
       "      <td>...</td>\n",
       "      <td>...</td>\n",
       "      <td>...</td>\n",
       "      <td>...</td>\n",
       "      <td>...</td>\n",
       "      <td>...</td>\n",
       "      <td>...</td>\n",
       "    </tr>\n",
       "    <tr>\n",
       "      <th>5863</th>\n",
       "      <td>2023-04-25</td>\n",
       "      <td>4071.63</td>\n",
       "      <td>0.22</td>\n",
       "      <td>-0.09</td>\n",
       "      <td>-0.53</td>\n",
       "      <td>-0.35</td>\n",
       "      <td>NaN</td>\n",
       "      <td>NaN</td>\n",
       "      <td>NaN</td>\n",
       "      <td>NaN</td>\n",
       "      <td>NaN</td>\n",
       "      <td>NaN</td>\n",
       "      <td>-0.41</td>\n",
       "      <td>-0.14</td>\n",
       "    </tr>\n",
       "    <tr>\n",
       "      <th>5864</th>\n",
       "      <td>2023-04-26</td>\n",
       "      <td>4055.99</td>\n",
       "      <td>0.23</td>\n",
       "      <td>-0.10</td>\n",
       "      <td>-0.49</td>\n",
       "      <td>-0.26</td>\n",
       "      <td>NaN</td>\n",
       "      <td>NaN</td>\n",
       "      <td>NaN</td>\n",
       "      <td>NaN</td>\n",
       "      <td>NaN</td>\n",
       "      <td>NaN</td>\n",
       "      <td>-0.36</td>\n",
       "      <td>-0.12</td>\n",
       "    </tr>\n",
       "    <tr>\n",
       "      <th>5865</th>\n",
       "      <td>2023-04-27</td>\n",
       "      <td>4135.35</td>\n",
       "      <td>0.19</td>\n",
       "      <td>-0.13</td>\n",
       "      <td>-0.65</td>\n",
       "      <td>-0.67</td>\n",
       "      <td>NaN</td>\n",
       "      <td>NaN</td>\n",
       "      <td>NaN</td>\n",
       "      <td>NaN</td>\n",
       "      <td>NaN</td>\n",
       "      <td>NaN</td>\n",
       "      <td>-0.58</td>\n",
       "      <td>-0.19</td>\n",
       "    </tr>\n",
       "    <tr>\n",
       "      <th>5866</th>\n",
       "      <td>2023-04-28</td>\n",
       "      <td>4169.48</td>\n",
       "      <td>0.19</td>\n",
       "      <td>-0.12</td>\n",
       "      <td>-0.52</td>\n",
       "      <td>-0.68</td>\n",
       "      <td>NaN</td>\n",
       "      <td>NaN</td>\n",
       "      <td>NaN</td>\n",
       "      <td>NaN</td>\n",
       "      <td>NaN</td>\n",
       "      <td>NaN</td>\n",
       "      <td>-0.44</td>\n",
       "      <td>-0.15</td>\n",
       "    </tr>\n",
       "    <tr>\n",
       "      <th>5867</th>\n",
       "      <td>2023-05-01</td>\n",
       "      <td>4167.87</td>\n",
       "      <td>0.17</td>\n",
       "      <td>-0.15</td>\n",
       "      <td>-0.50</td>\n",
       "      <td>-0.69</td>\n",
       "      <td>NaN</td>\n",
       "      <td>NaN</td>\n",
       "      <td>NaN</td>\n",
       "      <td>NaN</td>\n",
       "      <td>NaN</td>\n",
       "      <td>NaN</td>\n",
       "      <td>-0.48</td>\n",
       "      <td>-0.16</td>\n",
       "    </tr>\n",
       "  </tbody>\n",
       "</table>\n",
       "<p>5868 rows × 14 columns</p>\n",
       "</div>"
      ],
      "text/plain": [
       "           Date   Close  Credit  Safe assets  Funding  OFR FSI   \n",
       "0    2000-01-03 1455.22    0.54         0.67     0.47     2.14  \\\n",
       "1    2000-01-04 1399.42    0.60         0.63     0.55     2.42   \n",
       "2    2000-01-05 1402.11    0.57         0.65     0.50     2.30   \n",
       "3    2000-01-06 1403.45    0.55         0.58     0.57     2.29   \n",
       "4    2000-01-07 1441.47    0.66         0.52     0.56     2.00   \n",
       "...         ...     ...     ...          ...      ...      ...   \n",
       "5863 2023-04-25 4071.63    0.22        -0.09    -0.53    -0.35   \n",
       "5864 2023-04-26 4055.99    0.23        -0.10    -0.49    -0.26   \n",
       "5865 2023-04-27 4135.35    0.19        -0.13    -0.65    -0.67   \n",
       "5866 2023-04-28 4169.48    0.19        -0.12    -0.52    -0.68   \n",
       "5867 2023-05-01 4167.87    0.17        -0.15    -0.50    -0.69   \n",
       "\n",
       "      3MonPriceReturn  6MonPriceReturn  12MonPriceReturn  36MonPriceReturn   \n",
       "0               50.75            14.32           -171.95           -545.29  \\\n",
       "1               95.31            46.81            -51.86           -471.85   \n",
       "2               85.26            54.56            -68.77           -474.54   \n",
       "3               97.89            75.45           -105.10           -477.19   \n",
       "4               74.88            34.15           -145.61           -509.81   \n",
       "...               ...              ...               ...               ...   \n",
       "5863              NaN              NaN               NaN               NaN   \n",
       "5864              NaN              NaN               NaN               NaN   \n",
       "5865              NaN              NaN               NaN               NaN   \n",
       "5866              NaN              NaN               NaN               NaN   \n",
       "5867              NaN              NaN               NaN               NaN   \n",
       "\n",
       "      60MonPriceReturn  120MonPriceReturn  Stress sum  Stress avg  \n",
       "0              -269.03            -308.24        1.68        0.56  \n",
       "1              -209.17            -263.20        1.78        0.59  \n",
       "2              -219.12            -256.43        1.73        0.58  \n",
       "3              -215.75            -254.99        1.69        0.56  \n",
       "4              -264.02            -305.44        1.75        0.58  \n",
       "...                ...                ...         ...         ...  \n",
       "5863               NaN                NaN       -0.41       -0.14  \n",
       "5864               NaN                NaN       -0.36       -0.12  \n",
       "5865               NaN                NaN       -0.58       -0.19  \n",
       "5866               NaN                NaN       -0.44       -0.15  \n",
       "5867               NaN                NaN       -0.48       -0.16  \n",
       "\n",
       "[5868 rows x 14 columns]"
      ]
     },
     "execution_count": 9,
     "metadata": {},
     "output_type": "execute_result"
    }
   ],
   "source": [
    "clean_data['Stress sum'] = clean_data['Credit'] + clean_data['Funding'] + clean_data['Safe assets']\n",
    "clean_data['Stress avg'] = ( clean_data['Credit'] + clean_data['Funding'] + clean_data['Safe assets'] ) / 3\n",
    "clean_data"
   ]
  },
  {
   "cell_type": "markdown",
   "id": "8b525253",
   "metadata": {},
   "source": [
    "# Graph Correlations (Single-Column to S&P Price Returns)"
   ]
  },
  {
   "cell_type": "code",
   "execution_count": 10,
   "id": "949df5bc",
   "metadata": {},
   "outputs": [
    {
     "data": {
      "application/vnd.plotly.v1+json": {
       "config": {
        "plotlyServerURL": "https://plotly.com"
       },
       "data": [
        {
         "colorscale": [
          [
           0,
           "#440154"
          ],
          [
           0.1111111111111111,
           "#482878"
          ],
          [
           0.2222222222222222,
           "#3e4989"
          ],
          [
           0.3333333333333333,
           "#31688e"
          ],
          [
           0.4444444444444444,
           "#26828e"
          ],
          [
           0.5555555555555556,
           "#1f9e89"
          ],
          [
           0.6666666666666666,
           "#35b779"
          ],
          [
           0.7777777777777778,
           "#6ece58"
          ],
          [
           0.8888888888888888,
           "#b5de2b"
          ],
          [
           1,
           "#fde725"
          ]
         ],
         "type": "heatmap",
         "x": [
          "3MonPriceReturn",
          "6MonPriceReturn",
          "12MonPriceReturn",
          "36MonPriceReturn",
          "60MonPriceReturn",
          "120MonPriceReturn"
         ],
         "y": [
          "Credit",
          "Safe assets",
          "Funding",
          "Stress sum",
          "Stress avg"
         ],
         "z": [
          [
           -0.12864365605146172,
           -0.14786467129479275,
           -0.11272774116307915,
           -0.08649936505963157,
           0.07713303804899219,
           0.05513969387085359
          ],
          [
           0.043412481127558966,
           0.028653253505565704,
           0.026685326525949973,
           -0.044311111163422665,
           -0.20110913199240565,
           -0.0922763250755617
          ],
          [
           -0.20862110500490846,
           -0.2577537995730691,
           -0.2076670733089339,
           -0.17108056821254933,
           -0.0446143906200652,
           0.19920637151232992
          ],
          [
           -0.15809118394430946,
           -0.1924720292776299,
           -0.1509543171997478,
           -0.12985981445845007,
           -0.000026979325176011057,
           0.10421285565190205
          ],
          [
           -0.15809118394430963,
           -0.19247202927763,
           -0.15095431719974758,
           -0.12985981445844996,
           -0.000026979325176094422,
           0.10421285565190218
          ]
         ]
        }
       ],
       "layout": {
        "font": {
         "size": 30
        },
        "height": 1000,
        "template": {
         "data": {
          "bar": [
           {
            "error_x": {
             "color": "#2a3f5f"
            },
            "error_y": {
             "color": "#2a3f5f"
            },
            "marker": {
             "line": {
              "color": "#E5ECF6",
              "width": 0.5
             },
             "pattern": {
              "fillmode": "overlay",
              "size": 10,
              "solidity": 0.2
             }
            },
            "type": "bar"
           }
          ],
          "barpolar": [
           {
            "marker": {
             "line": {
              "color": "#E5ECF6",
              "width": 0.5
             },
             "pattern": {
              "fillmode": "overlay",
              "size": 10,
              "solidity": 0.2
             }
            },
            "type": "barpolar"
           }
          ],
          "carpet": [
           {
            "aaxis": {
             "endlinecolor": "#2a3f5f",
             "gridcolor": "white",
             "linecolor": "white",
             "minorgridcolor": "white",
             "startlinecolor": "#2a3f5f"
            },
            "baxis": {
             "endlinecolor": "#2a3f5f",
             "gridcolor": "white",
             "linecolor": "white",
             "minorgridcolor": "white",
             "startlinecolor": "#2a3f5f"
            },
            "type": "carpet"
           }
          ],
          "choropleth": [
           {
            "colorbar": {
             "outlinewidth": 0,
             "ticks": ""
            },
            "type": "choropleth"
           }
          ],
          "contour": [
           {
            "colorbar": {
             "outlinewidth": 0,
             "ticks": ""
            },
            "colorscale": [
             [
              0,
              "#0d0887"
             ],
             [
              0.1111111111111111,
              "#46039f"
             ],
             [
              0.2222222222222222,
              "#7201a8"
             ],
             [
              0.3333333333333333,
              "#9c179e"
             ],
             [
              0.4444444444444444,
              "#bd3786"
             ],
             [
              0.5555555555555556,
              "#d8576b"
             ],
             [
              0.6666666666666666,
              "#ed7953"
             ],
             [
              0.7777777777777778,
              "#fb9f3a"
             ],
             [
              0.8888888888888888,
              "#fdca26"
             ],
             [
              1,
              "#f0f921"
             ]
            ],
            "type": "contour"
           }
          ],
          "contourcarpet": [
           {
            "colorbar": {
             "outlinewidth": 0,
             "ticks": ""
            },
            "type": "contourcarpet"
           }
          ],
          "heatmap": [
           {
            "colorbar": {
             "outlinewidth": 0,
             "ticks": ""
            },
            "colorscale": [
             [
              0,
              "#0d0887"
             ],
             [
              0.1111111111111111,
              "#46039f"
             ],
             [
              0.2222222222222222,
              "#7201a8"
             ],
             [
              0.3333333333333333,
              "#9c179e"
             ],
             [
              0.4444444444444444,
              "#bd3786"
             ],
             [
              0.5555555555555556,
              "#d8576b"
             ],
             [
              0.6666666666666666,
              "#ed7953"
             ],
             [
              0.7777777777777778,
              "#fb9f3a"
             ],
             [
              0.8888888888888888,
              "#fdca26"
             ],
             [
              1,
              "#f0f921"
             ]
            ],
            "type": "heatmap"
           }
          ],
          "heatmapgl": [
           {
            "colorbar": {
             "outlinewidth": 0,
             "ticks": ""
            },
            "colorscale": [
             [
              0,
              "#0d0887"
             ],
             [
              0.1111111111111111,
              "#46039f"
             ],
             [
              0.2222222222222222,
              "#7201a8"
             ],
             [
              0.3333333333333333,
              "#9c179e"
             ],
             [
              0.4444444444444444,
              "#bd3786"
             ],
             [
              0.5555555555555556,
              "#d8576b"
             ],
             [
              0.6666666666666666,
              "#ed7953"
             ],
             [
              0.7777777777777778,
              "#fb9f3a"
             ],
             [
              0.8888888888888888,
              "#fdca26"
             ],
             [
              1,
              "#f0f921"
             ]
            ],
            "type": "heatmapgl"
           }
          ],
          "histogram": [
           {
            "marker": {
             "pattern": {
              "fillmode": "overlay",
              "size": 10,
              "solidity": 0.2
             }
            },
            "type": "histogram"
           }
          ],
          "histogram2d": [
           {
            "colorbar": {
             "outlinewidth": 0,
             "ticks": ""
            },
            "colorscale": [
             [
              0,
              "#0d0887"
             ],
             [
              0.1111111111111111,
              "#46039f"
             ],
             [
              0.2222222222222222,
              "#7201a8"
             ],
             [
              0.3333333333333333,
              "#9c179e"
             ],
             [
              0.4444444444444444,
              "#bd3786"
             ],
             [
              0.5555555555555556,
              "#d8576b"
             ],
             [
              0.6666666666666666,
              "#ed7953"
             ],
             [
              0.7777777777777778,
              "#fb9f3a"
             ],
             [
              0.8888888888888888,
              "#fdca26"
             ],
             [
              1,
              "#f0f921"
             ]
            ],
            "type": "histogram2d"
           }
          ],
          "histogram2dcontour": [
           {
            "colorbar": {
             "outlinewidth": 0,
             "ticks": ""
            },
            "colorscale": [
             [
              0,
              "#0d0887"
             ],
             [
              0.1111111111111111,
              "#46039f"
             ],
             [
              0.2222222222222222,
              "#7201a8"
             ],
             [
              0.3333333333333333,
              "#9c179e"
             ],
             [
              0.4444444444444444,
              "#bd3786"
             ],
             [
              0.5555555555555556,
              "#d8576b"
             ],
             [
              0.6666666666666666,
              "#ed7953"
             ],
             [
              0.7777777777777778,
              "#fb9f3a"
             ],
             [
              0.8888888888888888,
              "#fdca26"
             ],
             [
              1,
              "#f0f921"
             ]
            ],
            "type": "histogram2dcontour"
           }
          ],
          "mesh3d": [
           {
            "colorbar": {
             "outlinewidth": 0,
             "ticks": ""
            },
            "type": "mesh3d"
           }
          ],
          "parcoords": [
           {
            "line": {
             "colorbar": {
              "outlinewidth": 0,
              "ticks": ""
             }
            },
            "type": "parcoords"
           }
          ],
          "pie": [
           {
            "automargin": true,
            "type": "pie"
           }
          ],
          "scatter": [
           {
            "fillpattern": {
             "fillmode": "overlay",
             "size": 10,
             "solidity": 0.2
            },
            "type": "scatter"
           }
          ],
          "scatter3d": [
           {
            "line": {
             "colorbar": {
              "outlinewidth": 0,
              "ticks": ""
             }
            },
            "marker": {
             "colorbar": {
              "outlinewidth": 0,
              "ticks": ""
             }
            },
            "type": "scatter3d"
           }
          ],
          "scattercarpet": [
           {
            "marker": {
             "colorbar": {
              "outlinewidth": 0,
              "ticks": ""
             }
            },
            "type": "scattercarpet"
           }
          ],
          "scattergeo": [
           {
            "marker": {
             "colorbar": {
              "outlinewidth": 0,
              "ticks": ""
             }
            },
            "type": "scattergeo"
           }
          ],
          "scattergl": [
           {
            "marker": {
             "colorbar": {
              "outlinewidth": 0,
              "ticks": ""
             }
            },
            "type": "scattergl"
           }
          ],
          "scattermapbox": [
           {
            "marker": {
             "colorbar": {
              "outlinewidth": 0,
              "ticks": ""
             }
            },
            "type": "scattermapbox"
           }
          ],
          "scatterpolar": [
           {
            "marker": {
             "colorbar": {
              "outlinewidth": 0,
              "ticks": ""
             }
            },
            "type": "scatterpolar"
           }
          ],
          "scatterpolargl": [
           {
            "marker": {
             "colorbar": {
              "outlinewidth": 0,
              "ticks": ""
             }
            },
            "type": "scatterpolargl"
           }
          ],
          "scatterternary": [
           {
            "marker": {
             "colorbar": {
              "outlinewidth": 0,
              "ticks": ""
             }
            },
            "type": "scatterternary"
           }
          ],
          "surface": [
           {
            "colorbar": {
             "outlinewidth": 0,
             "ticks": ""
            },
            "colorscale": [
             [
              0,
              "#0d0887"
             ],
             [
              0.1111111111111111,
              "#46039f"
             ],
             [
              0.2222222222222222,
              "#7201a8"
             ],
             [
              0.3333333333333333,
              "#9c179e"
             ],
             [
              0.4444444444444444,
              "#bd3786"
             ],
             [
              0.5555555555555556,
              "#d8576b"
             ],
             [
              0.6666666666666666,
              "#ed7953"
             ],
             [
              0.7777777777777778,
              "#fb9f3a"
             ],
             [
              0.8888888888888888,
              "#fdca26"
             ],
             [
              1,
              "#f0f921"
             ]
            ],
            "type": "surface"
           }
          ],
          "table": [
           {
            "cells": {
             "fill": {
              "color": "#EBF0F8"
             },
             "line": {
              "color": "white"
             }
            },
            "header": {
             "fill": {
              "color": "#C8D4E3"
             },
             "line": {
              "color": "white"
             }
            },
            "type": "table"
           }
          ]
         },
         "layout": {
          "annotationdefaults": {
           "arrowcolor": "#2a3f5f",
           "arrowhead": 0,
           "arrowwidth": 1
          },
          "autotypenumbers": "strict",
          "coloraxis": {
           "colorbar": {
            "outlinewidth": 0,
            "ticks": ""
           }
          },
          "colorscale": {
           "diverging": [
            [
             0,
             "#8e0152"
            ],
            [
             0.1,
             "#c51b7d"
            ],
            [
             0.2,
             "#de77ae"
            ],
            [
             0.3,
             "#f1b6da"
            ],
            [
             0.4,
             "#fde0ef"
            ],
            [
             0.5,
             "#f7f7f7"
            ],
            [
             0.6,
             "#e6f5d0"
            ],
            [
             0.7,
             "#b8e186"
            ],
            [
             0.8,
             "#7fbc41"
            ],
            [
             0.9,
             "#4d9221"
            ],
            [
             1,
             "#276419"
            ]
           ],
           "sequential": [
            [
             0,
             "#0d0887"
            ],
            [
             0.1111111111111111,
             "#46039f"
            ],
            [
             0.2222222222222222,
             "#7201a8"
            ],
            [
             0.3333333333333333,
             "#9c179e"
            ],
            [
             0.4444444444444444,
             "#bd3786"
            ],
            [
             0.5555555555555556,
             "#d8576b"
            ],
            [
             0.6666666666666666,
             "#ed7953"
            ],
            [
             0.7777777777777778,
             "#fb9f3a"
            ],
            [
             0.8888888888888888,
             "#fdca26"
            ],
            [
             1,
             "#f0f921"
            ]
           ],
           "sequentialminus": [
            [
             0,
             "#0d0887"
            ],
            [
             0.1111111111111111,
             "#46039f"
            ],
            [
             0.2222222222222222,
             "#7201a8"
            ],
            [
             0.3333333333333333,
             "#9c179e"
            ],
            [
             0.4444444444444444,
             "#bd3786"
            ],
            [
             0.5555555555555556,
             "#d8576b"
            ],
            [
             0.6666666666666666,
             "#ed7953"
            ],
            [
             0.7777777777777778,
             "#fb9f3a"
            ],
            [
             0.8888888888888888,
             "#fdca26"
            ],
            [
             1,
             "#f0f921"
            ]
           ]
          },
          "colorway": [
           "#636efa",
           "#EF553B",
           "#00cc96",
           "#ab63fa",
           "#FFA15A",
           "#19d3f3",
           "#FF6692",
           "#B6E880",
           "#FF97FF",
           "#FECB52"
          ],
          "font": {
           "color": "#2a3f5f"
          },
          "geo": {
           "bgcolor": "white",
           "lakecolor": "white",
           "landcolor": "#E5ECF6",
           "showlakes": true,
           "showland": true,
           "subunitcolor": "white"
          },
          "hoverlabel": {
           "align": "left"
          },
          "hovermode": "closest",
          "mapbox": {
           "style": "light"
          },
          "paper_bgcolor": "white",
          "plot_bgcolor": "#E5ECF6",
          "polar": {
           "angularaxis": {
            "gridcolor": "white",
            "linecolor": "white",
            "ticks": ""
           },
           "bgcolor": "#E5ECF6",
           "radialaxis": {
            "gridcolor": "white",
            "linecolor": "white",
            "ticks": ""
           }
          },
          "scene": {
           "xaxis": {
            "backgroundcolor": "#E5ECF6",
            "gridcolor": "white",
            "gridwidth": 2,
            "linecolor": "white",
            "showbackground": true,
            "ticks": "",
            "zerolinecolor": "white"
           },
           "yaxis": {
            "backgroundcolor": "#E5ECF6",
            "gridcolor": "white",
            "gridwidth": 2,
            "linecolor": "white",
            "showbackground": true,
            "ticks": "",
            "zerolinecolor": "white"
           },
           "zaxis": {
            "backgroundcolor": "#E5ECF6",
            "gridcolor": "white",
            "gridwidth": 2,
            "linecolor": "white",
            "showbackground": true,
            "ticks": "",
            "zerolinecolor": "white"
           }
          },
          "shapedefaults": {
           "line": {
            "color": "#2a3f5f"
           }
          },
          "ternary": {
           "aaxis": {
            "gridcolor": "white",
            "linecolor": "white",
            "ticks": ""
           },
           "baxis": {
            "gridcolor": "white",
            "linecolor": "white",
            "ticks": ""
           },
           "bgcolor": "#E5ECF6",
           "caxis": {
            "gridcolor": "white",
            "linecolor": "white",
            "ticks": ""
           }
          },
          "title": {
           "x": 0.05
          },
          "xaxis": {
           "automargin": true,
           "gridcolor": "white",
           "linecolor": "white",
           "ticks": "",
           "title": {
            "standoff": 15
           },
           "zerolinecolor": "white",
           "zerolinewidth": 2
          },
          "yaxis": {
           "automargin": true,
           "gridcolor": "white",
           "linecolor": "white",
           "ticks": "",
           "title": {
            "standoff": 15
           },
           "zerolinecolor": "white",
           "zerolinewidth": 2
          }
         }
        },
        "width": 1500,
        "xaxis": {
         "gridcolor": "white",
         "gridwidth": 1,
         "showgrid": true,
         "tickangle": 45,
         "tickfont": {
          "size": 25
         }
        },
        "yaxis": {
         "gridcolor": "white",
         "gridwidth": 1,
         "showgrid": true,
         "tickfont": {
          "size": 25
         }
        }
       }
      }
     },
     "metadata": {},
     "output_type": "display_data"
    }
   ],
   "source": [
    "import plotly.graph_objects as go \n",
    "\n",
    "# create a heatmap of the correlation matrix using Plotly\n",
    "corr_matrix = clean_data.loc[:, ['Credit', 'Safe assets', 'Funding', 'Stress sum', 'Stress avg', '3MonPriceReturn', '6MonPriceReturn', '12MonPriceReturn', '36MonPriceReturn', '60MonPriceReturn', '120MonPriceReturn']].corr()\n",
    "cmat = corr_matrix.loc[:, ['3MonPriceReturn', '6MonPriceReturn', '12MonPriceReturn', '36MonPriceReturn', '60MonPriceReturn', '120MonPriceReturn']].iloc[:5]\n",
    "\n",
    "fig = go.Figure(data=go.Heatmap(\n",
    "                   z=cmat.values,\n",
    "                   x=cmat.columns,\n",
    "                   y=cmat.index,\n",
    "                   colorscale='Viridis'))\n",
    "\n",
    "# update the layout to make the plot larger, increase font size, and add lines to separate rectangles\n",
    "fig.update_layout(\n",
    "    width=1500,\n",
    "    height=1000,\n",
    "    font=dict(\n",
    "        size=30,\n",
    "    ),\n",
    "    xaxis=dict(\n",
    "        showgrid=True,\n",
    "        gridwidth=1,\n",
    "        gridcolor='white',\n",
    "        tickangle=45,\n",
    "        tickfont=dict(\n",
    "            size=25,\n",
    "        )\n",
    "    ),\n",
    "    yaxis=dict(\n",
    "        showgrid=True,\n",
    "        gridwidth=1,\n",
    "        gridcolor='white',\n",
    "        tickfont=dict(\n",
    "            size=25,\n",
    "        )\n",
    "    )\n",
    ")\n",
    "\n",
    "# show the plot\n",
    "fig.show()\n"
   ]
  },
  {
   "attachments": {},
   "cell_type": "markdown",
   "id": "7d98c8da",
   "metadata": {},
   "source": [
    "##  Text format correlations (Single Column to S&P Price Returns)"
   ]
  },
  {
   "cell_type": "code",
   "execution_count": 11,
   "id": "287749ef",
   "metadata": {},
   "outputs": [
    {
     "data": {
      "text/html": [
       "<div>\n",
       "<style scoped>\n",
       "    .dataframe tbody tr th:only-of-type {\n",
       "        vertical-align: middle;\n",
       "    }\n",
       "\n",
       "    .dataframe tbody tr th {\n",
       "        vertical-align: top;\n",
       "    }\n",
       "\n",
       "    .dataframe thead th {\n",
       "        text-align: right;\n",
       "    }\n",
       "</style>\n",
       "<table border=\"1\" class=\"dataframe\">\n",
       "  <thead>\n",
       "    <tr style=\"text-align: right;\">\n",
       "      <th></th>\n",
       "      <th>3MonPriceReturn</th>\n",
       "      <th>6MonPriceReturn</th>\n",
       "      <th>12MonPriceReturn</th>\n",
       "      <th>36MonPriceReturn</th>\n",
       "      <th>60MonPriceReturn</th>\n",
       "      <th>120MonPriceReturn</th>\n",
       "    </tr>\n",
       "  </thead>\n",
       "  <tbody>\n",
       "    <tr>\n",
       "      <th>Credit</th>\n",
       "      <td>-0.13</td>\n",
       "      <td>-0.15</td>\n",
       "      <td>-0.11</td>\n",
       "      <td>-0.09</td>\n",
       "      <td>0.08</td>\n",
       "      <td>0.06</td>\n",
       "    </tr>\n",
       "    <tr>\n",
       "      <th>Safe assets</th>\n",
       "      <td>0.04</td>\n",
       "      <td>0.03</td>\n",
       "      <td>0.03</td>\n",
       "      <td>-0.04</td>\n",
       "      <td>-0.20</td>\n",
       "      <td>-0.09</td>\n",
       "    </tr>\n",
       "    <tr>\n",
       "      <th>Funding</th>\n",
       "      <td>-0.21</td>\n",
       "      <td>-0.26</td>\n",
       "      <td>-0.21</td>\n",
       "      <td>-0.17</td>\n",
       "      <td>-0.04</td>\n",
       "      <td>0.20</td>\n",
       "    </tr>\n",
       "    <tr>\n",
       "      <th>Stress sum</th>\n",
       "      <td>-0.16</td>\n",
       "      <td>-0.19</td>\n",
       "      <td>-0.15</td>\n",
       "      <td>-0.13</td>\n",
       "      <td>-0.00</td>\n",
       "      <td>0.10</td>\n",
       "    </tr>\n",
       "    <tr>\n",
       "      <th>Stress avg</th>\n",
       "      <td>-0.16</td>\n",
       "      <td>-0.19</td>\n",
       "      <td>-0.15</td>\n",
       "      <td>-0.13</td>\n",
       "      <td>-0.00</td>\n",
       "      <td>0.10</td>\n",
       "    </tr>\n",
       "  </tbody>\n",
       "</table>\n",
       "</div>"
      ],
      "text/plain": [
       "             3MonPriceReturn  6MonPriceReturn  12MonPriceReturn   \n",
       "Credit                 -0.13            -0.15             -0.11  \\\n",
       "Safe assets             0.04             0.03              0.03   \n",
       "Funding                -0.21            -0.26             -0.21   \n",
       "Stress sum             -0.16            -0.19             -0.15   \n",
       "Stress avg             -0.16            -0.19             -0.15   \n",
       "\n",
       "             36MonPriceReturn  60MonPriceReturn  120MonPriceReturn  \n",
       "Credit                  -0.09              0.08               0.06  \n",
       "Safe assets             -0.04             -0.20              -0.09  \n",
       "Funding                 -0.17             -0.04               0.20  \n",
       "Stress sum              -0.13             -0.00               0.10  \n",
       "Stress avg              -0.13             -0.00               0.10  "
      ]
     },
     "execution_count": 11,
     "metadata": {},
     "output_type": "execute_result"
    }
   ],
   "source": [
    "cmat"
   ]
  },
  {
   "attachments": {},
   "cell_type": "markdown",
   "id": "7e2e86b9",
   "metadata": {},
   "source": [
    "# AI Models "
   ]
  },
  {
   "cell_type": "code",
   "execution_count": 12,
   "id": "7477556e",
   "metadata": {},
   "outputs": [],
   "source": [
    "import matplotlib.pyplot as plt\n",
    "from sklearn.model_selection import train_test_split\n",
    "from sklearn.ensemble import RandomForestClassifier\n",
    "from sklearn.metrics import accuracy_score, classification_report, confusion_matrix\n",
    "import seaborn as sns\n",
    "\n",
    "tolerance = 0 # Change if prefer a certain number > 0 \n",
    "\n",
    "# Split the data into training and testing sets\n",
    "X = clean_data.drop(['3MonPriceReturn', '6MonPriceReturn', '12MonPriceReturn', '36MonPriceReturn', '60MonPriceReturn', '120MonPriceReturn', 'OFR FSI', 'Stress sum', 'Stress avg', 'Date', 'Close'], axis=1) # Only features we train on are Credit, Safe Assets, and Funding\n",
    "y = (clean_data[['3MonPriceReturn', '6MonPriceReturn', '12MonPriceReturn']] > tolerance).any(axis=1).astype(int) \n",
    "\n",
    "X_train, X_test, y_train, y_test = train_test_split(X, y, test_size=0.2, random_state=42)"
   ]
  },
  {
   "cell_type": "code",
   "execution_count": 13,
   "id": "a851392a",
   "metadata": {},
   "outputs": [
    {
     "data": {
      "text/html": [
       "<div>\n",
       "<style scoped>\n",
       "    .dataframe tbody tr th:only-of-type {\n",
       "        vertical-align: middle;\n",
       "    }\n",
       "\n",
       "    .dataframe tbody tr th {\n",
       "        vertical-align: top;\n",
       "    }\n",
       "\n",
       "    .dataframe thead th {\n",
       "        text-align: right;\n",
       "    }\n",
       "</style>\n",
       "<table border=\"1\" class=\"dataframe\">\n",
       "  <thead>\n",
       "    <tr style=\"text-align: right;\">\n",
       "      <th></th>\n",
       "      <th>Date</th>\n",
       "      <th>Close</th>\n",
       "      <th>Credit</th>\n",
       "      <th>Safe assets</th>\n",
       "      <th>Funding</th>\n",
       "      <th>OFR FSI</th>\n",
       "      <th>3MonPriceReturn</th>\n",
       "      <th>6MonPriceReturn</th>\n",
       "      <th>12MonPriceReturn</th>\n",
       "      <th>36MonPriceReturn</th>\n",
       "      <th>60MonPriceReturn</th>\n",
       "      <th>120MonPriceReturn</th>\n",
       "      <th>Stress sum</th>\n",
       "      <th>Stress avg</th>\n",
       "    </tr>\n",
       "  </thead>\n",
       "  <tbody>\n",
       "    <tr>\n",
       "      <th>0</th>\n",
       "      <td>2000-01-03</td>\n",
       "      <td>1455.22</td>\n",
       "      <td>0.54</td>\n",
       "      <td>0.67</td>\n",
       "      <td>0.47</td>\n",
       "      <td>2.14</td>\n",
       "      <td>50.75</td>\n",
       "      <td>14.32</td>\n",
       "      <td>-171.95</td>\n",
       "      <td>-545.29</td>\n",
       "      <td>-269.03</td>\n",
       "      <td>-308.24</td>\n",
       "      <td>1.68</td>\n",
       "      <td>0.56</td>\n",
       "    </tr>\n",
       "    <tr>\n",
       "      <th>1</th>\n",
       "      <td>2000-01-04</td>\n",
       "      <td>1399.42</td>\n",
       "      <td>0.60</td>\n",
       "      <td>0.63</td>\n",
       "      <td>0.55</td>\n",
       "      <td>2.42</td>\n",
       "      <td>95.31</td>\n",
       "      <td>46.81</td>\n",
       "      <td>-51.86</td>\n",
       "      <td>-471.85</td>\n",
       "      <td>-209.17</td>\n",
       "      <td>-263.20</td>\n",
       "      <td>1.78</td>\n",
       "      <td>0.59</td>\n",
       "    </tr>\n",
       "    <tr>\n",
       "      <th>2</th>\n",
       "      <td>2000-01-05</td>\n",
       "      <td>1402.11</td>\n",
       "      <td>0.57</td>\n",
       "      <td>0.65</td>\n",
       "      <td>0.50</td>\n",
       "      <td>2.30</td>\n",
       "      <td>85.26</td>\n",
       "      <td>54.56</td>\n",
       "      <td>-68.77</td>\n",
       "      <td>-474.54</td>\n",
       "      <td>-219.12</td>\n",
       "      <td>-256.43</td>\n",
       "      <td>1.73</td>\n",
       "      <td>0.58</td>\n",
       "    </tr>\n",
       "    <tr>\n",
       "      <th>3</th>\n",
       "      <td>2000-01-06</td>\n",
       "      <td>1403.45</td>\n",
       "      <td>0.55</td>\n",
       "      <td>0.58</td>\n",
       "      <td>0.57</td>\n",
       "      <td>2.29</td>\n",
       "      <td>97.89</td>\n",
       "      <td>75.45</td>\n",
       "      <td>-105.10</td>\n",
       "      <td>-477.19</td>\n",
       "      <td>-215.75</td>\n",
       "      <td>-254.99</td>\n",
       "      <td>1.69</td>\n",
       "      <td>0.56</td>\n",
       "    </tr>\n",
       "    <tr>\n",
       "      <th>4</th>\n",
       "      <td>2000-01-07</td>\n",
       "      <td>1441.47</td>\n",
       "      <td>0.66</td>\n",
       "      <td>0.52</td>\n",
       "      <td>0.56</td>\n",
       "      <td>2.00</td>\n",
       "      <td>74.88</td>\n",
       "      <td>34.15</td>\n",
       "      <td>-145.61</td>\n",
       "      <td>-509.81</td>\n",
       "      <td>-264.02</td>\n",
       "      <td>-305.44</td>\n",
       "      <td>1.75</td>\n",
       "      <td>0.58</td>\n",
       "    </tr>\n",
       "    <tr>\n",
       "      <th>...</th>\n",
       "      <td>...</td>\n",
       "      <td>...</td>\n",
       "      <td>...</td>\n",
       "      <td>...</td>\n",
       "      <td>...</td>\n",
       "      <td>...</td>\n",
       "      <td>...</td>\n",
       "      <td>...</td>\n",
       "      <td>...</td>\n",
       "      <td>...</td>\n",
       "      <td>...</td>\n",
       "      <td>...</td>\n",
       "      <td>...</td>\n",
       "      <td>...</td>\n",
       "    </tr>\n",
       "    <tr>\n",
       "      <th>5863</th>\n",
       "      <td>2023-04-25</td>\n",
       "      <td>4071.63</td>\n",
       "      <td>0.22</td>\n",
       "      <td>-0.09</td>\n",
       "      <td>-0.53</td>\n",
       "      <td>-0.35</td>\n",
       "      <td>NaN</td>\n",
       "      <td>NaN</td>\n",
       "      <td>NaN</td>\n",
       "      <td>NaN</td>\n",
       "      <td>NaN</td>\n",
       "      <td>NaN</td>\n",
       "      <td>-0.41</td>\n",
       "      <td>-0.14</td>\n",
       "    </tr>\n",
       "    <tr>\n",
       "      <th>5864</th>\n",
       "      <td>2023-04-26</td>\n",
       "      <td>4055.99</td>\n",
       "      <td>0.23</td>\n",
       "      <td>-0.10</td>\n",
       "      <td>-0.49</td>\n",
       "      <td>-0.26</td>\n",
       "      <td>NaN</td>\n",
       "      <td>NaN</td>\n",
       "      <td>NaN</td>\n",
       "      <td>NaN</td>\n",
       "      <td>NaN</td>\n",
       "      <td>NaN</td>\n",
       "      <td>-0.36</td>\n",
       "      <td>-0.12</td>\n",
       "    </tr>\n",
       "    <tr>\n",
       "      <th>5865</th>\n",
       "      <td>2023-04-27</td>\n",
       "      <td>4135.35</td>\n",
       "      <td>0.19</td>\n",
       "      <td>-0.13</td>\n",
       "      <td>-0.65</td>\n",
       "      <td>-0.67</td>\n",
       "      <td>NaN</td>\n",
       "      <td>NaN</td>\n",
       "      <td>NaN</td>\n",
       "      <td>NaN</td>\n",
       "      <td>NaN</td>\n",
       "      <td>NaN</td>\n",
       "      <td>-0.58</td>\n",
       "      <td>-0.19</td>\n",
       "    </tr>\n",
       "    <tr>\n",
       "      <th>5866</th>\n",
       "      <td>2023-04-28</td>\n",
       "      <td>4169.48</td>\n",
       "      <td>0.19</td>\n",
       "      <td>-0.12</td>\n",
       "      <td>-0.52</td>\n",
       "      <td>-0.68</td>\n",
       "      <td>NaN</td>\n",
       "      <td>NaN</td>\n",
       "      <td>NaN</td>\n",
       "      <td>NaN</td>\n",
       "      <td>NaN</td>\n",
       "      <td>NaN</td>\n",
       "      <td>-0.44</td>\n",
       "      <td>-0.15</td>\n",
       "    </tr>\n",
       "    <tr>\n",
       "      <th>5867</th>\n",
       "      <td>2023-05-01</td>\n",
       "      <td>4167.87</td>\n",
       "      <td>0.17</td>\n",
       "      <td>-0.15</td>\n",
       "      <td>-0.50</td>\n",
       "      <td>-0.69</td>\n",
       "      <td>NaN</td>\n",
       "      <td>NaN</td>\n",
       "      <td>NaN</td>\n",
       "      <td>NaN</td>\n",
       "      <td>NaN</td>\n",
       "      <td>NaN</td>\n",
       "      <td>-0.48</td>\n",
       "      <td>-0.16</td>\n",
       "    </tr>\n",
       "  </tbody>\n",
       "</table>\n",
       "<p>5868 rows × 14 columns</p>\n",
       "</div>"
      ],
      "text/plain": [
       "           Date   Close  Credit  Safe assets  Funding  OFR FSI   \n",
       "0    2000-01-03 1455.22    0.54         0.67     0.47     2.14  \\\n",
       "1    2000-01-04 1399.42    0.60         0.63     0.55     2.42   \n",
       "2    2000-01-05 1402.11    0.57         0.65     0.50     2.30   \n",
       "3    2000-01-06 1403.45    0.55         0.58     0.57     2.29   \n",
       "4    2000-01-07 1441.47    0.66         0.52     0.56     2.00   \n",
       "...         ...     ...     ...          ...      ...      ...   \n",
       "5863 2023-04-25 4071.63    0.22        -0.09    -0.53    -0.35   \n",
       "5864 2023-04-26 4055.99    0.23        -0.10    -0.49    -0.26   \n",
       "5865 2023-04-27 4135.35    0.19        -0.13    -0.65    -0.67   \n",
       "5866 2023-04-28 4169.48    0.19        -0.12    -0.52    -0.68   \n",
       "5867 2023-05-01 4167.87    0.17        -0.15    -0.50    -0.69   \n",
       "\n",
       "      3MonPriceReturn  6MonPriceReturn  12MonPriceReturn  36MonPriceReturn   \n",
       "0               50.75            14.32           -171.95           -545.29  \\\n",
       "1               95.31            46.81            -51.86           -471.85   \n",
       "2               85.26            54.56            -68.77           -474.54   \n",
       "3               97.89            75.45           -105.10           -477.19   \n",
       "4               74.88            34.15           -145.61           -509.81   \n",
       "...               ...              ...               ...               ...   \n",
       "5863              NaN              NaN               NaN               NaN   \n",
       "5864              NaN              NaN               NaN               NaN   \n",
       "5865              NaN              NaN               NaN               NaN   \n",
       "5866              NaN              NaN               NaN               NaN   \n",
       "5867              NaN              NaN               NaN               NaN   \n",
       "\n",
       "      60MonPriceReturn  120MonPriceReturn  Stress sum  Stress avg  \n",
       "0              -269.03            -308.24        1.68        0.56  \n",
       "1              -209.17            -263.20        1.78        0.59  \n",
       "2              -219.12            -256.43        1.73        0.58  \n",
       "3              -215.75            -254.99        1.69        0.56  \n",
       "4              -264.02            -305.44        1.75        0.58  \n",
       "...                ...                ...         ...         ...  \n",
       "5863               NaN                NaN       -0.41       -0.14  \n",
       "5864               NaN                NaN       -0.36       -0.12  \n",
       "5865               NaN                NaN       -0.58       -0.19  \n",
       "5866               NaN                NaN       -0.44       -0.15  \n",
       "5867               NaN                NaN       -0.48       -0.16  \n",
       "\n",
       "[5868 rows x 14 columns]"
      ]
     },
     "execution_count": 13,
     "metadata": {},
     "output_type": "execute_result"
    }
   ],
   "source": [
    "clean_data "
   ]
  },
  {
   "cell_type": "code",
   "execution_count": 14,
   "id": "0679c4e7",
   "metadata": {},
   "outputs": [
    {
     "data": {
      "text/plain": [
       "(5868, 14)"
      ]
     },
     "execution_count": 14,
     "metadata": {},
     "output_type": "execute_result"
    }
   ],
   "source": [
    "clean_data.shape"
   ]
  },
  {
   "cell_type": "code",
   "execution_count": 15,
   "id": "900caed5",
   "metadata": {},
   "outputs": [
    {
     "name": "stdout",
     "output_type": "stream",
     "text": [
      "Accuracy: 0.9497444633730835\n",
      "Classification Report:\n",
      "               precision    recall  f1-score   support\n",
      "\n",
      "           0       0.89      0.82      0.85       207\n",
      "           1       0.96      0.98      0.97       967\n",
      "\n",
      "    accuracy                           0.95      1174\n",
      "   macro avg       0.93      0.90      0.91      1174\n",
      "weighted avg       0.95      0.95      0.95      1174\n",
      "\n",
      "Confusion Matrix:\n",
      " [[169  38]\n",
      " [ 21 946]]\n"
     ]
    },
    {
     "data": {
      "image/png": "[encoded data removed]",
      "text/plain": [
       "<Figure size 640x480 with 1 Axes>"
      ]
     },
     "metadata": {},
     "output_type": "display_data"
    },
    {
     "data": {
      "image/png": "[encoded data removed]",
      "text/plain": [
       "<Figure size 640x480 with 2 Axes>"
      ]
     },
     "metadata": {},
     "output_type": "display_data"
    }
   ],
   "source": [
    "\n",
    "# Train a random forest classifier\n",
    "rfc = RandomForestClassifier(n_estimators=50, random_state=42)\n",
    "rfc.fit(X_train, y_train)\n",
    "\n",
    "# Make predictions on the test set\n",
    "y_pred = rfc.predict(X_test)\n",
    "\n",
    "# Evaluate the performance of the model\n",
    "accuracy = accuracy_score(y_test, y_pred)\n",
    "print('Accuracy:', accuracy)\n",
    "print('Classification Report:\\n', classification_report(y_test, y_pred))\n",
    "print('Confusion Matrix:\\n', confusion_matrix(y_test, y_pred))\n",
    "\n",
    "# Plot feature importances\n",
    "feature_importances = pd.Series(rfc.feature_importances_, index=X.columns)\n",
    "feature_importances.nlargest(10).plot(kind='barh')\n",
    "plt.title('Feature Importances')\n",
    "plt.xlabel('Relative Importance')\n",
    "plt.ylabel('Feature')\n",
    "plt.show()\n",
    "\n",
    "\n",
    "# Plot confusion matrix\n",
    "sns.heatmap(confusion_matrix(y_test, y_pred), annot=True, cmap='Blues', fmt='g')\n",
    "plt.title('Confusion Matrix')\n",
    "plt.xlabel('Predicted Label')\n",
    "plt.ylabel('True Label')\n",
    "plt.show()\n"
   ]
  }
 ],
 "metadata": {
  "kernelspec": {
   "display_name": "Python 3 (ipykernel)",
   "language": "python",
   "name": "python3"
  },
  "language_info": {
   "codemirror_mode": {
    "name": "ipython",
    "version": 3
   },
   "file_extension": ".py",
   "mimetype": "text/x-python",
   "name": "python",
   "nbconvert_exporter": "python",
   "pygments_lexer": "ipython3",
   "version": "3.9.6"
  }
 },
 "nbformat": 4,
 "nbformat_minor": 5
}
