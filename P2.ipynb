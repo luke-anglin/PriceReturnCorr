{
 "cells": [
  {
   "attachments": {},
   "cell_type": "markdown",
   "id": "00e4b413",
   "metadata": {},
   "source": [
    "# Deliverable\n",
    "\n",
    "* DONE - **Slope** - cap rolling window size at 1 month \n",
    "    * Tomorrow - maximize corr in a 1 month timespan \n",
    "* DONE - Percentage change rather than the absolute dollar (based on initial)\n",
    "* DONE - 1 month, 3 month, 6 month, 12 month \n",
    "* DONE - Superimpose S&P (scaled) onto Funding (scaled) line chart"
   ]
  },
  {
   "cell_type": "markdown",
   "id": "768d2a19",
   "metadata": {},
   "source": [
    "# Takeaways\n",
    "\n",
    "* Changing to PCT change **did not** affect correlations"
   ]
  },
  {
   "cell_type": "markdown",
   "id": "06d32218",
   "metadata": {},
   "source": [
    "# Libraries"
   ]
  },
  {
   "cell_type": "code",
   "execution_count": 15,
   "id": "74f4a446",
   "metadata": {},
   "outputs": [],
   "source": [
    "import pandas as pd\n",
    "import numpy as np\n",
    "# display the DataFrame with only 2 decimal places\n",
    "pd.options.display.float_format = '{:.2f}'.format"
   ]
  },
  {
   "attachments": {},
   "cell_type": "markdown",
   "id": "0df18576",
   "metadata": {},
   "source": [
    "# Assumptions"
   ]
  },
  {
   "attachments": {},
   "cell_type": "markdown",
   "id": "54b26b34",
   "metadata": {},
   "source": [
    "Assumptions I make will be listed below. \n",
    "* Used **yahoo finance data** for S&P 500 prices - https://finance.yahoo.com/quote/%5EGSPC/history?p=%255EGSPC&nn=1 (used the API, as this is not available for download by conventional users)\n"
   ]
  },
  {
   "attachments": {},
   "cell_type": "markdown",
   "id": "2d5aba18",
   "metadata": {},
   "source": [
    "# 1 - Reading in CSV"
   ]
  },
  {
   "cell_type": "code",
   "execution_count": 16,
   "id": "ea97ae9d",
   "metadata": {},
   "outputs": [
    {
     "data": {
      "text/html": [
       "<div>\n",
       "<style scoped>\n",
       "    .dataframe tbody tr th:only-of-type {\n",
       "        vertical-align: middle;\n",
       "    }\n",
       "\n",
       "    .dataframe tbody tr th {\n",
       "        vertical-align: top;\n",
       "    }\n",
       "\n",
       "    .dataframe thead th {\n",
       "        text-align: right;\n",
       "    }\n",
       "</style>\n",
       "<table border=\"1\" class=\"dataframe\">\n",
       "  <thead>\n",
       "    <tr style=\"text-align: right;\">\n",
       "      <th></th>\n",
       "      <th>Date</th>\n",
       "      <th>OFR FSI</th>\n",
       "      <th>Credit</th>\n",
       "      <th>Equity valuation</th>\n",
       "      <th>Safe assets</th>\n",
       "      <th>Funding</th>\n",
       "      <th>Volatility</th>\n",
       "      <th>United States</th>\n",
       "      <th>Other advanced economies</th>\n",
       "      <th>Emerging markets</th>\n",
       "    </tr>\n",
       "  </thead>\n",
       "  <tbody>\n",
       "    <tr>\n",
       "      <th>0</th>\n",
       "      <td>2000-01-03</td>\n",
       "      <td>2.14</td>\n",
       "      <td>0.54</td>\n",
       "      <td>-0.05</td>\n",
       "      <td>0.67</td>\n",
       "      <td>0.47</td>\n",
       "      <td>0.51</td>\n",
       "      <td>1.77</td>\n",
       "      <td>0.52</td>\n",
       "      <td>-0.15</td>\n",
       "    </tr>\n",
       "    <tr>\n",
       "      <th>1</th>\n",
       "      <td>2000-01-04</td>\n",
       "      <td>2.42</td>\n",
       "      <td>0.60</td>\n",
       "      <td>0.08</td>\n",
       "      <td>0.63</td>\n",
       "      <td>0.55</td>\n",
       "      <td>0.56</td>\n",
       "      <td>2.08</td>\n",
       "      <td>0.47</td>\n",
       "      <td>-0.14</td>\n",
       "    </tr>\n",
       "    <tr>\n",
       "      <th>2</th>\n",
       "      <td>2000-01-05</td>\n",
       "      <td>2.30</td>\n",
       "      <td>0.57</td>\n",
       "      <td>0.08</td>\n",
       "      <td>0.65</td>\n",
       "      <td>0.50</td>\n",
       "      <td>0.49</td>\n",
       "      <td>2.02</td>\n",
       "      <td>0.41</td>\n",
       "      <td>-0.13</td>\n",
       "    </tr>\n",
       "    <tr>\n",
       "      <th>3</th>\n",
       "      <td>2000-01-06</td>\n",
       "      <td>2.29</td>\n",
       "      <td>0.55</td>\n",
       "      <td>0.08</td>\n",
       "      <td>0.58</td>\n",
       "      <td>0.57</td>\n",
       "      <td>0.52</td>\n",
       "      <td>2.06</td>\n",
       "      <td>0.35</td>\n",
       "      <td>-0.13</td>\n",
       "    </tr>\n",
       "    <tr>\n",
       "      <th>4</th>\n",
       "      <td>2000-01-07</td>\n",
       "      <td>2.00</td>\n",
       "      <td>0.66</td>\n",
       "      <td>-0.01</td>\n",
       "      <td>0.52</td>\n",
       "      <td>0.56</td>\n",
       "      <td>0.27</td>\n",
       "      <td>1.77</td>\n",
       "      <td>0.37</td>\n",
       "      <td>-0.13</td>\n",
       "    </tr>\n",
       "    <tr>\n",
       "      <th>...</th>\n",
       "      <td>...</td>\n",
       "      <td>...</td>\n",
       "      <td>...</td>\n",
       "      <td>...</td>\n",
       "      <td>...</td>\n",
       "      <td>...</td>\n",
       "      <td>...</td>\n",
       "      <td>...</td>\n",
       "      <td>...</td>\n",
       "      <td>...</td>\n",
       "    </tr>\n",
       "    <tr>\n",
       "      <th>5874</th>\n",
       "      <td>2023-04-25</td>\n",
       "      <td>-0.35</td>\n",
       "      <td>0.22</td>\n",
       "      <td>-0.12</td>\n",
       "      <td>-0.09</td>\n",
       "      <td>-0.53</td>\n",
       "      <td>0.18</td>\n",
       "      <td>-0.09</td>\n",
       "      <td>-0.42</td>\n",
       "      <td>0.17</td>\n",
       "    </tr>\n",
       "    <tr>\n",
       "      <th>5875</th>\n",
       "      <td>2023-04-26</td>\n",
       "      <td>-0.26</td>\n",
       "      <td>0.23</td>\n",
       "      <td>-0.10</td>\n",
       "      <td>-0.10</td>\n",
       "      <td>-0.49</td>\n",
       "      <td>0.20</td>\n",
       "      <td>-0.07</td>\n",
       "      <td>-0.35</td>\n",
       "      <td>0.16</td>\n",
       "    </tr>\n",
       "    <tr>\n",
       "      <th>5876</th>\n",
       "      <td>2023-04-27</td>\n",
       "      <td>-0.67</td>\n",
       "      <td>0.19</td>\n",
       "      <td>-0.14</td>\n",
       "      <td>-0.13</td>\n",
       "      <td>-0.65</td>\n",
       "      <td>0.06</td>\n",
       "      <td>-0.34</td>\n",
       "      <td>-0.47</td>\n",
       "      <td>0.15</td>\n",
       "    </tr>\n",
       "    <tr>\n",
       "      <th>5877</th>\n",
       "      <td>2023-04-28</td>\n",
       "      <td>-0.68</td>\n",
       "      <td>0.19</td>\n",
       "      <td>-0.18</td>\n",
       "      <td>-0.12</td>\n",
       "      <td>-0.52</td>\n",
       "      <td>-0.06</td>\n",
       "      <td>-0.32</td>\n",
       "      <td>-0.50</td>\n",
       "      <td>0.13</td>\n",
       "    </tr>\n",
       "    <tr>\n",
       "      <th>5878</th>\n",
       "      <td>2023-05-01</td>\n",
       "      <td>-0.69</td>\n",
       "      <td>0.17</td>\n",
       "      <td>-0.17</td>\n",
       "      <td>-0.15</td>\n",
       "      <td>-0.50</td>\n",
       "      <td>-0.04</td>\n",
       "      <td>-0.33</td>\n",
       "      <td>-0.48</td>\n",
       "      <td>0.11</td>\n",
       "    </tr>\n",
       "  </tbody>\n",
       "</table>\n",
       "<p>5879 rows × 10 columns</p>\n",
       "</div>"
      ],
      "text/plain": [
       "           Date  OFR FSI  Credit  Equity valuation  Safe assets  Funding   \n",
       "0    2000-01-03     2.14    0.54             -0.05         0.67     0.47  \\\n",
       "1    2000-01-04     2.42    0.60              0.08         0.63     0.55   \n",
       "2    2000-01-05     2.30    0.57              0.08         0.65     0.50   \n",
       "3    2000-01-06     2.29    0.55              0.08         0.58     0.57   \n",
       "4    2000-01-07     2.00    0.66             -0.01         0.52     0.56   \n",
       "...         ...      ...     ...               ...          ...      ...   \n",
       "5874 2023-04-25    -0.35    0.22             -0.12        -0.09    -0.53   \n",
       "5875 2023-04-26    -0.26    0.23             -0.10        -0.10    -0.49   \n",
       "5876 2023-04-27    -0.67    0.19             -0.14        -0.13    -0.65   \n",
       "5877 2023-04-28    -0.68    0.19             -0.18        -0.12    -0.52   \n",
       "5878 2023-05-01    -0.69    0.17             -0.17        -0.15    -0.50   \n",
       "\n",
       "      Volatility  United States  Other advanced economies  Emerging markets  \n",
       "0           0.51           1.77                      0.52             -0.15  \n",
       "1           0.56           2.08                      0.47             -0.14  \n",
       "2           0.49           2.02                      0.41             -0.13  \n",
       "3           0.52           2.06                      0.35             -0.13  \n",
       "4           0.27           1.77                      0.37             -0.13  \n",
       "...          ...            ...                       ...               ...  \n",
       "5874        0.18          -0.09                     -0.42              0.17  \n",
       "5875        0.20          -0.07                     -0.35              0.16  \n",
       "5876        0.06          -0.34                     -0.47              0.15  \n",
       "5877       -0.06          -0.32                     -0.50              0.13  \n",
       "5878       -0.04          -0.33                     -0.48              0.11  \n",
       "\n",
       "[5879 rows x 10 columns]"
      ]
     },
     "execution_count": 16,
     "metadata": {},
     "output_type": "execute_result"
    }
   ],
   "source": [
    "data = pd.read_csv('./fsi.csv')\n",
    "data['Date'] = pd.to_datetime(data['Date'], format='%m/%d/%y') \n",
    "data"
   ]
  },
  {
   "attachments": {},
   "cell_type": "markdown",
   "id": "d90d5972",
   "metadata": {},
   "source": [
    "# 2 - Bring in S&P Data & More Cleaning of Data "
   ]
  },
  {
   "cell_type": "code",
   "execution_count": 30,
   "id": "6b4728f1",
   "metadata": {},
   "outputs": [
    {
     "name": "stdout",
     "output_type": "stream",
     "text": [
      "[*********************100%***********************]  1 of 1 completed\n"
     ]
    },
    {
     "data": {
      "text/html": [
       "<div>\n",
       "<style scoped>\n",
       "    .dataframe tbody tr th:only-of-type {\n",
       "        vertical-align: middle;\n",
       "    }\n",
       "\n",
       "    .dataframe tbody tr th {\n",
       "        vertical-align: top;\n",
       "    }\n",
       "\n",
       "    .dataframe thead th {\n",
       "        text-align: right;\n",
       "    }\n",
       "</style>\n",
       "<table border=\"1\" class=\"dataframe\">\n",
       "  <thead>\n",
       "    <tr style=\"text-align: right;\">\n",
       "      <th></th>\n",
       "      <th>Date</th>\n",
       "      <th>Open</th>\n",
       "      <th>High</th>\n",
       "      <th>Low</th>\n",
       "      <th>Close</th>\n",
       "      <th>Adj Close</th>\n",
       "      <th>Volume</th>\n",
       "      <th>1MonPriceReturn</th>\n",
       "      <th>3MonPriceReturn</th>\n",
       "      <th>6MonPriceReturn</th>\n",
       "      <th>12MonPriceReturn</th>\n",
       "    </tr>\n",
       "  </thead>\n",
       "  <tbody>\n",
       "    <tr>\n",
       "      <th>0</th>\n",
       "      <td>2000-01-03</td>\n",
       "      <td>1469.25</td>\n",
       "      <td>1478.00</td>\n",
       "      <td>1438.36</td>\n",
       "      <td>1455.22</td>\n",
       "      <td>1455.22</td>\n",
       "      <td>931800000</td>\n",
       "      <td>-0.03</td>\n",
       "      <td>0.03</td>\n",
       "      <td>0.01</td>\n",
       "      <td>-0.12</td>\n",
       "    </tr>\n",
       "    <tr>\n",
       "      <th>1</th>\n",
       "      <td>2000-01-04</td>\n",
       "      <td>1455.22</td>\n",
       "      <td>1455.22</td>\n",
       "      <td>1397.43</td>\n",
       "      <td>1399.42</td>\n",
       "      <td>1399.42</td>\n",
       "      <td>1009000000</td>\n",
       "      <td>0.02</td>\n",
       "      <td>0.07</td>\n",
       "      <td>0.03</td>\n",
       "      <td>-0.04</td>\n",
       "    </tr>\n",
       "    <tr>\n",
       "      <th>2</th>\n",
       "      <td>2000-01-05</td>\n",
       "      <td>1399.42</td>\n",
       "      <td>1413.27</td>\n",
       "      <td>1377.68</td>\n",
       "      <td>1402.11</td>\n",
       "      <td>1402.11</td>\n",
       "      <td>1085500000</td>\n",
       "      <td>0.02</td>\n",
       "      <td>0.06</td>\n",
       "      <td>0.04</td>\n",
       "      <td>-0.05</td>\n",
       "    </tr>\n",
       "    <tr>\n",
       "      <th>3</th>\n",
       "      <td>2000-01-06</td>\n",
       "      <td>1402.11</td>\n",
       "      <td>1411.90</td>\n",
       "      <td>1392.10</td>\n",
       "      <td>1403.45</td>\n",
       "      <td>1403.45</td>\n",
       "      <td>1092300000</td>\n",
       "      <td>0.01</td>\n",
       "      <td>0.07</td>\n",
       "      <td>0.05</td>\n",
       "      <td>-0.07</td>\n",
       "    </tr>\n",
       "    <tr>\n",
       "      <th>4</th>\n",
       "      <td>2000-01-07</td>\n",
       "      <td>1403.45</td>\n",
       "      <td>1441.47</td>\n",
       "      <td>1400.73</td>\n",
       "      <td>1441.47</td>\n",
       "      <td>1441.47</td>\n",
       "      <td>1225200000</td>\n",
       "      <td>0.00</td>\n",
       "      <td>0.05</td>\n",
       "      <td>0.02</td>\n",
       "      <td>-0.10</td>\n",
       "    </tr>\n",
       "    <tr>\n",
       "      <th>...</th>\n",
       "      <td>...</td>\n",
       "      <td>...</td>\n",
       "      <td>...</td>\n",
       "      <td>...</td>\n",
       "      <td>...</td>\n",
       "      <td>...</td>\n",
       "      <td>...</td>\n",
       "      <td>...</td>\n",
       "      <td>...</td>\n",
       "      <td>...</td>\n",
       "      <td>...</td>\n",
       "    </tr>\n",
       "    <tr>\n",
       "      <th>5864</th>\n",
       "      <td>2023-04-25</td>\n",
       "      <td>4126.43</td>\n",
       "      <td>4126.43</td>\n",
       "      <td>4071.38</td>\n",
       "      <td>4071.63</td>\n",
       "      <td>4071.63</td>\n",
       "      <td>3978640000</td>\n",
       "      <td>NaN</td>\n",
       "      <td>NaN</td>\n",
       "      <td>NaN</td>\n",
       "      <td>NaN</td>\n",
       "    </tr>\n",
       "    <tr>\n",
       "      <th>5865</th>\n",
       "      <td>2023-04-26</td>\n",
       "      <td>4087.78</td>\n",
       "      <td>4089.67</td>\n",
       "      <td>4049.35</td>\n",
       "      <td>4055.99</td>\n",
       "      <td>4055.99</td>\n",
       "      <td>3837030000</td>\n",
       "      <td>NaN</td>\n",
       "      <td>NaN</td>\n",
       "      <td>NaN</td>\n",
       "      <td>NaN</td>\n",
       "    </tr>\n",
       "    <tr>\n",
       "      <th>5866</th>\n",
       "      <td>2023-04-27</td>\n",
       "      <td>4075.29</td>\n",
       "      <td>4138.24</td>\n",
       "      <td>4075.29</td>\n",
       "      <td>4135.35</td>\n",
       "      <td>4135.35</td>\n",
       "      <td>3750550000</td>\n",
       "      <td>NaN</td>\n",
       "      <td>NaN</td>\n",
       "      <td>NaN</td>\n",
       "      <td>NaN</td>\n",
       "    </tr>\n",
       "    <tr>\n",
       "      <th>5867</th>\n",
       "      <td>2023-04-28</td>\n",
       "      <td>4129.63</td>\n",
       "      <td>4170.06</td>\n",
       "      <td>4127.18</td>\n",
       "      <td>4169.48</td>\n",
       "      <td>4169.48</td>\n",
       "      <td>4087800000</td>\n",
       "      <td>NaN</td>\n",
       "      <td>NaN</td>\n",
       "      <td>NaN</td>\n",
       "      <td>NaN</td>\n",
       "    </tr>\n",
       "    <tr>\n",
       "      <th>5868</th>\n",
       "      <td>2023-05-01</td>\n",
       "      <td>4166.79</td>\n",
       "      <td>4186.92</td>\n",
       "      <td>4164.12</td>\n",
       "      <td>4167.87</td>\n",
       "      <td>4167.87</td>\n",
       "      <td>3321370000</td>\n",
       "      <td>NaN</td>\n",
       "      <td>NaN</td>\n",
       "      <td>NaN</td>\n",
       "      <td>NaN</td>\n",
       "    </tr>\n",
       "  </tbody>\n",
       "</table>\n",
       "<p>5869 rows × 11 columns</p>\n",
       "</div>"
      ],
      "text/plain": [
       "           Date    Open    High     Low   Close  Adj Close      Volume   \n",
       "0    2000-01-03 1469.25 1478.00 1438.36 1455.22    1455.22   931800000  \\\n",
       "1    2000-01-04 1455.22 1455.22 1397.43 1399.42    1399.42  1009000000   \n",
       "2    2000-01-05 1399.42 1413.27 1377.68 1402.11    1402.11  1085500000   \n",
       "3    2000-01-06 1402.11 1411.90 1392.10 1403.45    1403.45  1092300000   \n",
       "4    2000-01-07 1403.45 1441.47 1400.73 1441.47    1441.47  1225200000   \n",
       "...         ...     ...     ...     ...     ...        ...         ...   \n",
       "5864 2023-04-25 4126.43 4126.43 4071.38 4071.63    4071.63  3978640000   \n",
       "5865 2023-04-26 4087.78 4089.67 4049.35 4055.99    4055.99  3837030000   \n",
       "5866 2023-04-27 4075.29 4138.24 4075.29 4135.35    4135.35  3750550000   \n",
       "5867 2023-04-28 4129.63 4170.06 4127.18 4169.48    4169.48  4087800000   \n",
       "5868 2023-05-01 4166.79 4186.92 4164.12 4167.87    4167.87  3321370000   \n",
       "\n",
       "      1MonPriceReturn  3MonPriceReturn  6MonPriceReturn  12MonPriceReturn  \n",
       "0               -0.03             0.03             0.01             -0.12  \n",
       "1                0.02             0.07             0.03             -0.04  \n",
       "2                0.02             0.06             0.04             -0.05  \n",
       "3                0.01             0.07             0.05             -0.07  \n",
       "4                0.00             0.05             0.02             -0.10  \n",
       "...               ...              ...              ...               ...  \n",
       "5864              NaN              NaN              NaN               NaN  \n",
       "5865              NaN              NaN              NaN               NaN  \n",
       "5866              NaN              NaN              NaN               NaN  \n",
       "5867              NaN              NaN              NaN               NaN  \n",
       "5868              NaN              NaN              NaN               NaN  \n",
       "\n",
       "[5869 rows x 11 columns]"
      ]
     },
     "execution_count": 30,
     "metadata": {},
     "output_type": "execute_result"
    }
   ],
   "source": [
    "from pandas_datareader import data as pdr\n",
    "import datetime as dt\n",
    "import yfinance as yfin \n",
    "yfin.pdr_override()\n",
    "\n",
    "start_date = dt.datetime(2001, 1, 1)\n",
    "end_date = dt.datetime(2023, 5, 2)\n",
    "\n",
    "df = pdr.get_data_yahoo(\"^GSPC\", start=\"2000-01-03\", end=\"2023-05-02\")\n",
    "df = df.reset_index()\n",
    "# \n",
    "df[\"1MonPriceReturn\"] = (df[\"Close\"].shift(-1 * int(365.25 / 12 * .69)) - df[\"Close\"]) / df[\"Close\"]\n",
    "df[\"3MonPriceReturn\"] = (df[\"Close\"].shift(-1 * int(365.25 / 4 * .69)) - df[\"Close\"]) / df[\"Close\"]\n",
    "df[\"6MonPriceReturn\"] = (df[\"Close\"].shift(-1 * int(365.25 / 2 * .69)) - df[\"Close\"]) / df[\"Close\"]\n",
    "df[\"12MonPriceReturn\"] = (df[\"Close\"].shift(-1 * int(365.25 * .69)) - df[\"Close\"]) / df[\"Close\"]\n",
    "\n",
    "df"
   ]
  },
  {
   "cell_type": "markdown",
   "id": "31778255",
   "metadata": {},
   "source": [
    "It is expected that the last 90 rows of 3 Month Price Return, 180 of 6 Month Price Return, and last 360 of 12 Month Price Return will be NULL (NaN)"
   ]
  },
  {
   "cell_type": "code",
   "execution_count": 31,
   "id": "7b76bc17",
   "metadata": {},
   "outputs": [
    {
     "data": {
      "text/html": [
       "<div>\n",
       "<style scoped>\n",
       "    .dataframe tbody tr th:only-of-type {\n",
       "        vertical-align: middle;\n",
       "    }\n",
       "\n",
       "    .dataframe tbody tr th {\n",
       "        vertical-align: top;\n",
       "    }\n",
       "\n",
       "    .dataframe thead th {\n",
       "        text-align: right;\n",
       "    }\n",
       "</style>\n",
       "<table border=\"1\" class=\"dataframe\">\n",
       "  <thead>\n",
       "    <tr style=\"text-align: right;\">\n",
       "      <th></th>\n",
       "      <th>Date</th>\n",
       "      <th>Open</th>\n",
       "      <th>High</th>\n",
       "      <th>Low</th>\n",
       "      <th>Close</th>\n",
       "      <th>Adj Close</th>\n",
       "      <th>Volume</th>\n",
       "      <th>1MonPriceReturn</th>\n",
       "      <th>3MonPriceReturn</th>\n",
       "      <th>6MonPriceReturn</th>\n",
       "      <th>12MonPriceReturn</th>\n",
       "      <th>OFR FSI</th>\n",
       "      <th>Credit</th>\n",
       "      <th>Equity valuation</th>\n",
       "      <th>Safe assets</th>\n",
       "      <th>Funding</th>\n",
       "      <th>Volatility</th>\n",
       "      <th>United States</th>\n",
       "      <th>Other advanced economies</th>\n",
       "      <th>Emerging markets</th>\n",
       "    </tr>\n",
       "  </thead>\n",
       "  <tbody>\n",
       "    <tr>\n",
       "      <th>0</th>\n",
       "      <td>2000-01-03</td>\n",
       "      <td>1469.25</td>\n",
       "      <td>1478.00</td>\n",
       "      <td>1438.36</td>\n",
       "      <td>1455.22</td>\n",
       "      <td>1455.22</td>\n",
       "      <td>931800000</td>\n",
       "      <td>-0.03</td>\n",
       "      <td>0.03</td>\n",
       "      <td>0.01</td>\n",
       "      <td>-0.12</td>\n",
       "      <td>2.14</td>\n",
       "      <td>0.54</td>\n",
       "      <td>-0.05</td>\n",
       "      <td>0.67</td>\n",
       "      <td>0.47</td>\n",
       "      <td>0.51</td>\n",
       "      <td>1.77</td>\n",
       "      <td>0.52</td>\n",
       "      <td>-0.15</td>\n",
       "    </tr>\n",
       "    <tr>\n",
       "      <th>1</th>\n",
       "      <td>2000-01-04</td>\n",
       "      <td>1455.22</td>\n",
       "      <td>1455.22</td>\n",
       "      <td>1397.43</td>\n",
       "      <td>1399.42</td>\n",
       "      <td>1399.42</td>\n",
       "      <td>1009000000</td>\n",
       "      <td>0.02</td>\n",
       "      <td>0.07</td>\n",
       "      <td>0.03</td>\n",
       "      <td>-0.04</td>\n",
       "      <td>2.42</td>\n",
       "      <td>0.60</td>\n",
       "      <td>0.08</td>\n",
       "      <td>0.63</td>\n",
       "      <td>0.55</td>\n",
       "      <td>0.56</td>\n",
       "      <td>2.08</td>\n",
       "      <td>0.47</td>\n",
       "      <td>-0.14</td>\n",
       "    </tr>\n",
       "    <tr>\n",
       "      <th>2</th>\n",
       "      <td>2000-01-05</td>\n",
       "      <td>1399.42</td>\n",
       "      <td>1413.27</td>\n",
       "      <td>1377.68</td>\n",
       "      <td>1402.11</td>\n",
       "      <td>1402.11</td>\n",
       "      <td>1085500000</td>\n",
       "      <td>0.02</td>\n",
       "      <td>0.06</td>\n",
       "      <td>0.04</td>\n",
       "      <td>-0.05</td>\n",
       "      <td>2.30</td>\n",
       "      <td>0.57</td>\n",
       "      <td>0.08</td>\n",
       "      <td>0.65</td>\n",
       "      <td>0.50</td>\n",
       "      <td>0.49</td>\n",
       "      <td>2.02</td>\n",
       "      <td>0.41</td>\n",
       "      <td>-0.13</td>\n",
       "    </tr>\n",
       "    <tr>\n",
       "      <th>3</th>\n",
       "      <td>2000-01-06</td>\n",
       "      <td>1402.11</td>\n",
       "      <td>1411.90</td>\n",
       "      <td>1392.10</td>\n",
       "      <td>1403.45</td>\n",
       "      <td>1403.45</td>\n",
       "      <td>1092300000</td>\n",
       "      <td>0.01</td>\n",
       "      <td>0.07</td>\n",
       "      <td>0.05</td>\n",
       "      <td>-0.07</td>\n",
       "      <td>2.29</td>\n",
       "      <td>0.55</td>\n",
       "      <td>0.08</td>\n",
       "      <td>0.58</td>\n",
       "      <td>0.57</td>\n",
       "      <td>0.52</td>\n",
       "      <td>2.06</td>\n",
       "      <td>0.35</td>\n",
       "      <td>-0.13</td>\n",
       "    </tr>\n",
       "    <tr>\n",
       "      <th>4</th>\n",
       "      <td>2000-01-07</td>\n",
       "      <td>1403.45</td>\n",
       "      <td>1441.47</td>\n",
       "      <td>1400.73</td>\n",
       "      <td>1441.47</td>\n",
       "      <td>1441.47</td>\n",
       "      <td>1225200000</td>\n",
       "      <td>0.00</td>\n",
       "      <td>0.05</td>\n",
       "      <td>0.02</td>\n",
       "      <td>-0.10</td>\n",
       "      <td>2.00</td>\n",
       "      <td>0.66</td>\n",
       "      <td>-0.01</td>\n",
       "      <td>0.52</td>\n",
       "      <td>0.56</td>\n",
       "      <td>0.27</td>\n",
       "      <td>1.77</td>\n",
       "      <td>0.37</td>\n",
       "      <td>-0.13</td>\n",
       "    </tr>\n",
       "  </tbody>\n",
       "</table>\n",
       "</div>"
      ],
      "text/plain": [
       "        Date    Open    High     Low   Close  Adj Close      Volume   \n",
       "0 2000-01-03 1469.25 1478.00 1438.36 1455.22    1455.22   931800000  \\\n",
       "1 2000-01-04 1455.22 1455.22 1397.43 1399.42    1399.42  1009000000   \n",
       "2 2000-01-05 1399.42 1413.27 1377.68 1402.11    1402.11  1085500000   \n",
       "3 2000-01-06 1402.11 1411.90 1392.10 1403.45    1403.45  1092300000   \n",
       "4 2000-01-07 1403.45 1441.47 1400.73 1441.47    1441.47  1225200000   \n",
       "\n",
       "   1MonPriceReturn  3MonPriceReturn  6MonPriceReturn  12MonPriceReturn   \n",
       "0            -0.03             0.03             0.01             -0.12  \\\n",
       "1             0.02             0.07             0.03             -0.04   \n",
       "2             0.02             0.06             0.04             -0.05   \n",
       "3             0.01             0.07             0.05             -0.07   \n",
       "4             0.00             0.05             0.02             -0.10   \n",
       "\n",
       "   OFR FSI  Credit  Equity valuation  Safe assets  Funding  Volatility   \n",
       "0     2.14    0.54             -0.05         0.67     0.47        0.51  \\\n",
       "1     2.42    0.60              0.08         0.63     0.55        0.56   \n",
       "2     2.30    0.57              0.08         0.65     0.50        0.49   \n",
       "3     2.29    0.55              0.08         0.58     0.57        0.52   \n",
       "4     2.00    0.66             -0.01         0.52     0.56        0.27   \n",
       "\n",
       "   United States  Other advanced economies  Emerging markets  \n",
       "0           1.77                      0.52             -0.15  \n",
       "1           2.08                      0.47             -0.14  \n",
       "2           2.02                      0.41             -0.13  \n",
       "3           2.06                      0.35             -0.13  \n",
       "4           1.77                      0.37             -0.13  "
      ]
     },
     "execution_count": 31,
     "metadata": {},
     "output_type": "execute_result"
    }
   ],
   "source": [
    "clean_data_begin = df.merge(data, on = 'Date')\n",
    "clean_data_begin.head()"
   ]
  },
  {
   "cell_type": "code",
   "execution_count": 32,
   "id": "7be65f94",
   "metadata": {},
   "outputs": [
    {
     "data": {
      "text/html": [
       "<div>\n",
       "<style scoped>\n",
       "    .dataframe tbody tr th:only-of-type {\n",
       "        vertical-align: middle;\n",
       "    }\n",
       "\n",
       "    .dataframe tbody tr th {\n",
       "        vertical-align: top;\n",
       "    }\n",
       "\n",
       "    .dataframe thead th {\n",
       "        text-align: right;\n",
       "    }\n",
       "</style>\n",
       "<table border=\"1\" class=\"dataframe\">\n",
       "  <thead>\n",
       "    <tr style=\"text-align: right;\">\n",
       "      <th></th>\n",
       "      <th>Date</th>\n",
       "      <th>Close</th>\n",
       "      <th>Credit</th>\n",
       "      <th>Safe assets</th>\n",
       "      <th>Funding</th>\n",
       "      <th>OFR FSI</th>\n",
       "      <th>1MonPriceReturn</th>\n",
       "      <th>3MonPriceReturn</th>\n",
       "      <th>6MonPriceReturn</th>\n",
       "      <th>12MonPriceReturn</th>\n",
       "    </tr>\n",
       "  </thead>\n",
       "  <tbody>\n",
       "    <tr>\n",
       "      <th>0</th>\n",
       "      <td>2000-01-03</td>\n",
       "      <td>1455.22</td>\n",
       "      <td>0.54</td>\n",
       "      <td>0.67</td>\n",
       "      <td>0.47</td>\n",
       "      <td>2.14</td>\n",
       "      <td>-0.03</td>\n",
       "      <td>0.03</td>\n",
       "      <td>0.01</td>\n",
       "      <td>-0.12</td>\n",
       "    </tr>\n",
       "    <tr>\n",
       "      <th>1</th>\n",
       "      <td>2000-01-04</td>\n",
       "      <td>1399.42</td>\n",
       "      <td>0.60</td>\n",
       "      <td>0.63</td>\n",
       "      <td>0.55</td>\n",
       "      <td>2.42</td>\n",
       "      <td>0.02</td>\n",
       "      <td>0.07</td>\n",
       "      <td>0.03</td>\n",
       "      <td>-0.04</td>\n",
       "    </tr>\n",
       "    <tr>\n",
       "      <th>2</th>\n",
       "      <td>2000-01-05</td>\n",
       "      <td>1402.11</td>\n",
       "      <td>0.57</td>\n",
       "      <td>0.65</td>\n",
       "      <td>0.50</td>\n",
       "      <td>2.30</td>\n",
       "      <td>0.02</td>\n",
       "      <td>0.06</td>\n",
       "      <td>0.04</td>\n",
       "      <td>-0.05</td>\n",
       "    </tr>\n",
       "    <tr>\n",
       "      <th>3</th>\n",
       "      <td>2000-01-06</td>\n",
       "      <td>1403.45</td>\n",
       "      <td>0.55</td>\n",
       "      <td>0.58</td>\n",
       "      <td>0.57</td>\n",
       "      <td>2.29</td>\n",
       "      <td>0.01</td>\n",
       "      <td>0.07</td>\n",
       "      <td>0.05</td>\n",
       "      <td>-0.07</td>\n",
       "    </tr>\n",
       "    <tr>\n",
       "      <th>4</th>\n",
       "      <td>2000-01-07</td>\n",
       "      <td>1441.47</td>\n",
       "      <td>0.66</td>\n",
       "      <td>0.52</td>\n",
       "      <td>0.56</td>\n",
       "      <td>2.00</td>\n",
       "      <td>0.00</td>\n",
       "      <td>0.05</td>\n",
       "      <td>0.02</td>\n",
       "      <td>-0.10</td>\n",
       "    </tr>\n",
       "    <tr>\n",
       "      <th>...</th>\n",
       "      <td>...</td>\n",
       "      <td>...</td>\n",
       "      <td>...</td>\n",
       "      <td>...</td>\n",
       "      <td>...</td>\n",
       "      <td>...</td>\n",
       "      <td>...</td>\n",
       "      <td>...</td>\n",
       "      <td>...</td>\n",
       "      <td>...</td>\n",
       "    </tr>\n",
       "    <tr>\n",
       "      <th>5863</th>\n",
       "      <td>2023-04-25</td>\n",
       "      <td>4071.63</td>\n",
       "      <td>0.22</td>\n",
       "      <td>-0.09</td>\n",
       "      <td>-0.53</td>\n",
       "      <td>-0.35</td>\n",
       "      <td>NaN</td>\n",
       "      <td>NaN</td>\n",
       "      <td>NaN</td>\n",
       "      <td>NaN</td>\n",
       "    </tr>\n",
       "    <tr>\n",
       "      <th>5864</th>\n",
       "      <td>2023-04-26</td>\n",
       "      <td>4055.99</td>\n",
       "      <td>0.23</td>\n",
       "      <td>-0.10</td>\n",
       "      <td>-0.49</td>\n",
       "      <td>-0.26</td>\n",
       "      <td>NaN</td>\n",
       "      <td>NaN</td>\n",
       "      <td>NaN</td>\n",
       "      <td>NaN</td>\n",
       "    </tr>\n",
       "    <tr>\n",
       "      <th>5865</th>\n",
       "      <td>2023-04-27</td>\n",
       "      <td>4135.35</td>\n",
       "      <td>0.19</td>\n",
       "      <td>-0.13</td>\n",
       "      <td>-0.65</td>\n",
       "      <td>-0.67</td>\n",
       "      <td>NaN</td>\n",
       "      <td>NaN</td>\n",
       "      <td>NaN</td>\n",
       "      <td>NaN</td>\n",
       "    </tr>\n",
       "    <tr>\n",
       "      <th>5866</th>\n",
       "      <td>2023-04-28</td>\n",
       "      <td>4169.48</td>\n",
       "      <td>0.19</td>\n",
       "      <td>-0.12</td>\n",
       "      <td>-0.52</td>\n",
       "      <td>-0.68</td>\n",
       "      <td>NaN</td>\n",
       "      <td>NaN</td>\n",
       "      <td>NaN</td>\n",
       "      <td>NaN</td>\n",
       "    </tr>\n",
       "    <tr>\n",
       "      <th>5867</th>\n",
       "      <td>2023-05-01</td>\n",
       "      <td>4167.87</td>\n",
       "      <td>0.17</td>\n",
       "      <td>-0.15</td>\n",
       "      <td>-0.50</td>\n",
       "      <td>-0.69</td>\n",
       "      <td>NaN</td>\n",
       "      <td>NaN</td>\n",
       "      <td>NaN</td>\n",
       "      <td>NaN</td>\n",
       "    </tr>\n",
       "  </tbody>\n",
       "</table>\n",
       "<p>5868 rows × 10 columns</p>\n",
       "</div>"
      ],
      "text/plain": [
       "           Date   Close  Credit  Safe assets  Funding  OFR FSI   \n",
       "0    2000-01-03 1455.22    0.54         0.67     0.47     2.14  \\\n",
       "1    2000-01-04 1399.42    0.60         0.63     0.55     2.42   \n",
       "2    2000-01-05 1402.11    0.57         0.65     0.50     2.30   \n",
       "3    2000-01-06 1403.45    0.55         0.58     0.57     2.29   \n",
       "4    2000-01-07 1441.47    0.66         0.52     0.56     2.00   \n",
       "...         ...     ...     ...          ...      ...      ...   \n",
       "5863 2023-04-25 4071.63    0.22        -0.09    -0.53    -0.35   \n",
       "5864 2023-04-26 4055.99    0.23        -0.10    -0.49    -0.26   \n",
       "5865 2023-04-27 4135.35    0.19        -0.13    -0.65    -0.67   \n",
       "5866 2023-04-28 4169.48    0.19        -0.12    -0.52    -0.68   \n",
       "5867 2023-05-01 4167.87    0.17        -0.15    -0.50    -0.69   \n",
       "\n",
       "      1MonPriceReturn  3MonPriceReturn  6MonPriceReturn  12MonPriceReturn  \n",
       "0               -0.03             0.03             0.01             -0.12  \n",
       "1                0.02             0.07             0.03             -0.04  \n",
       "2                0.02             0.06             0.04             -0.05  \n",
       "3                0.01             0.07             0.05             -0.07  \n",
       "4                0.00             0.05             0.02             -0.10  \n",
       "...               ...              ...              ...               ...  \n",
       "5863              NaN              NaN              NaN               NaN  \n",
       "5864              NaN              NaN              NaN               NaN  \n",
       "5865              NaN              NaN              NaN               NaN  \n",
       "5866              NaN              NaN              NaN               NaN  \n",
       "5867              NaN              NaN              NaN               NaN  \n",
       "\n",
       "[5868 rows x 10 columns]"
      ]
     },
     "execution_count": 32,
     "metadata": {},
     "output_type": "execute_result"
    }
   ],
   "source": [
    "clean_data = clean_data_begin.loc[:, ['Date', 'Close', 'Credit', 'Safe assets', 'Funding', 'OFR FSI', '1MonPriceReturn', '3MonPriceReturn', '6MonPriceReturn', '12MonPriceReturn']]\n",
    "clean_data"
   ]
  },
  {
   "cell_type": "code",
   "execution_count": 37,
   "id": "701c1cce",
   "metadata": {},
   "outputs": [],
   "source": [
    "clean_data['Stress sum'] = clean_data['Credit'] + clean_data['Funding'] + clean_data['Safe assets']\n",
    "clean_data['Stress avg'] = ( clean_data['Credit'] + clean_data['Funding'] + clean_data['Safe assets'] ) / 3"
   ]
  },
  {
   "cell_type": "code",
   "execution_count": 98,
   "id": "616bb998",
   "metadata": {},
   "outputs": [],
   "source": [
    "def add_rolling_window(df, window_size):\n",
    "    '''\n",
    "    Parameters\n",
    "    * df\n",
    "    * window size in days \n",
    "    \n",
    "    Returns new df s.t. there are three columns added, Credit W3\n",
    "    '''\n",
    "    # df[\"12MonPriceReturn\"] = (df[\"Close\"].shift(-1 * int(365.25 * .69)) - df[\"Close\"]) / df[\"Close\"]\n",
    "    # Ensure this is as expected \n",
    "    new_df = df.copy(deep=True)\n",
    "    for col in ['Credit', 'Safe assets', 'Funding']:\n",
    "        new_df[f'{col} Win{window_size}'] = (df[col] - df[col].shift(1 * int(window_size / .69))) / (window_size)\n",
    "    new_df['Stress slope avg'] = (new_df[f'Credit Win{window_size}'] + new_df[f'Safe assets Win{window_size}'] + new_df[f'Funding Win{window_size}']) / 3\n",
    "    new_df['Stress slope sum'] = (new_df[f'Credit Win{window_size}'] + new_df[f'Safe assets Win{window_size}'] + new_df[f'Funding Win{window_size}']) \n",
    "    return new_df \n",
    "\n",
    "def get_best_rolling_window(df, max_rolling_window_size):\n",
    "    max_ = 0\n",
    "    window_size_ = -1\n",
    "    for window_size in range(max_rolling_window_size):\n",
    "        clean_w_slope = add_rolling_window(df, window_size) \n",
    "        corr_matrix = clean_w_slope.loc[:, ['Credit', 'Safe assets', 'Funding', f'Credit Win{window_size}', f'Safe assets Win{window_size}', f'Funding Win{window_size}', 'Stress sum', 'Stress avg','Stress slope avg', 'Stress slope sum','1MonPriceReturn', '3MonPriceReturn', '6MonPriceReturn', '12MonPriceReturn']].corr()\n",
    "        cmat = corr_matrix.loc[:, ['1MonPriceReturn', '3MonPriceReturn', '6MonPriceReturn', '12MonPriceReturn']].iloc[:10]\n",
    "        top_corr = cmat.agg(func=np.sum).agg(func=np.sum) \n",
    "        if top_corr < max_: \n",
    "            max_ = top_corr \n",
    "            window_size_ = window_size \n",
    "    return window_size_, max_\n",
    "\n",
    "\n"
   ]
  },
  {
   "cell_type": "markdown",
   "id": "5d4b284a",
   "metadata": {},
   "source": [
    "# Get best rolling window"
   ]
  },
  {
   "cell_type": "code",
   "execution_count": 99,
   "id": "f2124daa",
   "metadata": {},
   "outputs": [],
   "source": [
    "max_rolling_window_size = 120\n",
    "best_window_size, max_corr = get_best_rolling_window(clean_data, max_rolling_window_size)\n",
    "clean_w_slope = add_rolling_window(clean_data, best_window_size)"
   ]
  },
  {
   "cell_type": "code",
   "execution_count": 100,
   "id": "6bd69d1b",
   "metadata": {},
   "outputs": [
    {
     "data": {
      "text/html": [
       "<div>\n",
       "<style scoped>\n",
       "    .dataframe tbody tr th:only-of-type {\n",
       "        vertical-align: middle;\n",
       "    }\n",
       "\n",
       "    .dataframe tbody tr th {\n",
       "        vertical-align: top;\n",
       "    }\n",
       "\n",
       "    .dataframe thead th {\n",
       "        text-align: right;\n",
       "    }\n",
       "</style>\n",
       "<table border=\"1\" class=\"dataframe\">\n",
       "  <thead>\n",
       "    <tr style=\"text-align: right;\">\n",
       "      <th></th>\n",
       "      <th>Date</th>\n",
       "      <th>Close</th>\n",
       "      <th>Credit</th>\n",
       "      <th>Safe assets</th>\n",
       "      <th>Funding</th>\n",
       "      <th>OFR FSI</th>\n",
       "      <th>1MonPriceReturn</th>\n",
       "      <th>3MonPriceReturn</th>\n",
       "      <th>6MonPriceReturn</th>\n",
       "      <th>12MonPriceReturn</th>\n",
       "      <th>Stress sum</th>\n",
       "      <th>Stress avg</th>\n",
       "      <th>Credit Win103</th>\n",
       "      <th>Safe assets Win103</th>\n",
       "      <th>Funding Win103</th>\n",
       "      <th>Stress slope avg</th>\n",
       "      <th>Stress slope sum</th>\n",
       "    </tr>\n",
       "  </thead>\n",
       "  <tbody>\n",
       "    <tr>\n",
       "      <th>0</th>\n",
       "      <td>2000-01-03</td>\n",
       "      <td>1455.22</td>\n",
       "      <td>0.54</td>\n",
       "      <td>0.67</td>\n",
       "      <td>0.47</td>\n",
       "      <td>2.14</td>\n",
       "      <td>-0.03</td>\n",
       "      <td>0.03</td>\n",
       "      <td>0.01</td>\n",
       "      <td>-0.12</td>\n",
       "      <td>1.68</td>\n",
       "      <td>0.56</td>\n",
       "      <td>NaN</td>\n",
       "      <td>NaN</td>\n",
       "      <td>NaN</td>\n",
       "      <td>NaN</td>\n",
       "      <td>NaN</td>\n",
       "    </tr>\n",
       "    <tr>\n",
       "      <th>1</th>\n",
       "      <td>2000-01-04</td>\n",
       "      <td>1399.42</td>\n",
       "      <td>0.60</td>\n",
       "      <td>0.63</td>\n",
       "      <td>0.55</td>\n",
       "      <td>2.42</td>\n",
       "      <td>0.02</td>\n",
       "      <td>0.07</td>\n",
       "      <td>0.03</td>\n",
       "      <td>-0.04</td>\n",
       "      <td>1.78</td>\n",
       "      <td>0.59</td>\n",
       "      <td>NaN</td>\n",
       "      <td>NaN</td>\n",
       "      <td>NaN</td>\n",
       "      <td>NaN</td>\n",
       "      <td>NaN</td>\n",
       "    </tr>\n",
       "    <tr>\n",
       "      <th>2</th>\n",
       "      <td>2000-01-05</td>\n",
       "      <td>1402.11</td>\n",
       "      <td>0.57</td>\n",
       "      <td>0.65</td>\n",
       "      <td>0.50</td>\n",
       "      <td>2.30</td>\n",
       "      <td>0.02</td>\n",
       "      <td>0.06</td>\n",
       "      <td>0.04</td>\n",
       "      <td>-0.05</td>\n",
       "      <td>1.73</td>\n",
       "      <td>0.58</td>\n",
       "      <td>NaN</td>\n",
       "      <td>NaN</td>\n",
       "      <td>NaN</td>\n",
       "      <td>NaN</td>\n",
       "      <td>NaN</td>\n",
       "    </tr>\n",
       "    <tr>\n",
       "      <th>3</th>\n",
       "      <td>2000-01-06</td>\n",
       "      <td>1403.45</td>\n",
       "      <td>0.55</td>\n",
       "      <td>0.58</td>\n",
       "      <td>0.57</td>\n",
       "      <td>2.29</td>\n",
       "      <td>0.01</td>\n",
       "      <td>0.07</td>\n",
       "      <td>0.05</td>\n",
       "      <td>-0.07</td>\n",
       "      <td>1.69</td>\n",
       "      <td>0.56</td>\n",
       "      <td>NaN</td>\n",
       "      <td>NaN</td>\n",
       "      <td>NaN</td>\n",
       "      <td>NaN</td>\n",
       "      <td>NaN</td>\n",
       "    </tr>\n",
       "    <tr>\n",
       "      <th>4</th>\n",
       "      <td>2000-01-07</td>\n",
       "      <td>1441.47</td>\n",
       "      <td>0.66</td>\n",
       "      <td>0.52</td>\n",
       "      <td>0.56</td>\n",
       "      <td>2.00</td>\n",
       "      <td>0.00</td>\n",
       "      <td>0.05</td>\n",
       "      <td>0.02</td>\n",
       "      <td>-0.10</td>\n",
       "      <td>1.75</td>\n",
       "      <td>0.58</td>\n",
       "      <td>NaN</td>\n",
       "      <td>NaN</td>\n",
       "      <td>NaN</td>\n",
       "      <td>NaN</td>\n",
       "      <td>NaN</td>\n",
       "    </tr>\n",
       "    <tr>\n",
       "      <th>...</th>\n",
       "      <td>...</td>\n",
       "      <td>...</td>\n",
       "      <td>...</td>\n",
       "      <td>...</td>\n",
       "      <td>...</td>\n",
       "      <td>...</td>\n",
       "      <td>...</td>\n",
       "      <td>...</td>\n",
       "      <td>...</td>\n",
       "      <td>...</td>\n",
       "      <td>...</td>\n",
       "      <td>...</td>\n",
       "      <td>...</td>\n",
       "      <td>...</td>\n",
       "      <td>...</td>\n",
       "      <td>...</td>\n",
       "      <td>...</td>\n",
       "    </tr>\n",
       "    <tr>\n",
       "      <th>5863</th>\n",
       "      <td>2023-04-25</td>\n",
       "      <td>4071.63</td>\n",
       "      <td>0.22</td>\n",
       "      <td>-0.09</td>\n",
       "      <td>-0.53</td>\n",
       "      <td>-0.35</td>\n",
       "      <td>NaN</td>\n",
       "      <td>NaN</td>\n",
       "      <td>NaN</td>\n",
       "      <td>NaN</td>\n",
       "      <td>-0.41</td>\n",
       "      <td>-0.14</td>\n",
       "      <td>-0.00</td>\n",
       "      <td>0.01</td>\n",
       "      <td>-0.00</td>\n",
       "      <td>0.00</td>\n",
       "      <td>0.00</td>\n",
       "    </tr>\n",
       "    <tr>\n",
       "      <th>5864</th>\n",
       "      <td>2023-04-26</td>\n",
       "      <td>4055.99</td>\n",
       "      <td>0.23</td>\n",
       "      <td>-0.10</td>\n",
       "      <td>-0.49</td>\n",
       "      <td>-0.26</td>\n",
       "      <td>NaN</td>\n",
       "      <td>NaN</td>\n",
       "      <td>NaN</td>\n",
       "      <td>NaN</td>\n",
       "      <td>-0.36</td>\n",
       "      <td>-0.12</td>\n",
       "      <td>-0.00</td>\n",
       "      <td>0.01</td>\n",
       "      <td>-0.00</td>\n",
       "      <td>0.00</td>\n",
       "      <td>0.00</td>\n",
       "    </tr>\n",
       "    <tr>\n",
       "      <th>5865</th>\n",
       "      <td>2023-04-27</td>\n",
       "      <td>4135.35</td>\n",
       "      <td>0.19</td>\n",
       "      <td>-0.13</td>\n",
       "      <td>-0.65</td>\n",
       "      <td>-0.67</td>\n",
       "      <td>NaN</td>\n",
       "      <td>NaN</td>\n",
       "      <td>NaN</td>\n",
       "      <td>NaN</td>\n",
       "      <td>-0.58</td>\n",
       "      <td>-0.19</td>\n",
       "      <td>-0.00</td>\n",
       "      <td>0.01</td>\n",
       "      <td>-0.00</td>\n",
       "      <td>0.00</td>\n",
       "      <td>0.00</td>\n",
       "    </tr>\n",
       "    <tr>\n",
       "      <th>5866</th>\n",
       "      <td>2023-04-28</td>\n",
       "      <td>4169.48</td>\n",
       "      <td>0.19</td>\n",
       "      <td>-0.12</td>\n",
       "      <td>-0.52</td>\n",
       "      <td>-0.68</td>\n",
       "      <td>NaN</td>\n",
       "      <td>NaN</td>\n",
       "      <td>NaN</td>\n",
       "      <td>NaN</td>\n",
       "      <td>-0.44</td>\n",
       "      <td>-0.15</td>\n",
       "      <td>-0.00</td>\n",
       "      <td>0.01</td>\n",
       "      <td>-0.00</td>\n",
       "      <td>0.00</td>\n",
       "      <td>0.00</td>\n",
       "    </tr>\n",
       "    <tr>\n",
       "      <th>5867</th>\n",
       "      <td>2023-05-01</td>\n",
       "      <td>4167.87</td>\n",
       "      <td>0.17</td>\n",
       "      <td>-0.15</td>\n",
       "      <td>-0.50</td>\n",
       "      <td>-0.69</td>\n",
       "      <td>NaN</td>\n",
       "      <td>NaN</td>\n",
       "      <td>NaN</td>\n",
       "      <td>NaN</td>\n",
       "      <td>-0.48</td>\n",
       "      <td>-0.16</td>\n",
       "      <td>-0.00</td>\n",
       "      <td>0.01</td>\n",
       "      <td>-0.00</td>\n",
       "      <td>0.00</td>\n",
       "      <td>0.00</td>\n",
       "    </tr>\n",
       "  </tbody>\n",
       "</table>\n",
       "<p>5868 rows × 17 columns</p>\n",
       "</div>"
      ],
      "text/plain": [
       "           Date   Close  Credit  Safe assets  Funding  OFR FSI   \n",
       "0    2000-01-03 1455.22    0.54         0.67     0.47     2.14  \\\n",
       "1    2000-01-04 1399.42    0.60         0.63     0.55     2.42   \n",
       "2    2000-01-05 1402.11    0.57         0.65     0.50     2.30   \n",
       "3    2000-01-06 1403.45    0.55         0.58     0.57     2.29   \n",
       "4    2000-01-07 1441.47    0.66         0.52     0.56     2.00   \n",
       "...         ...     ...     ...          ...      ...      ...   \n",
       "5863 2023-04-25 4071.63    0.22        -0.09    -0.53    -0.35   \n",
       "5864 2023-04-26 4055.99    0.23        -0.10    -0.49    -0.26   \n",
       "5865 2023-04-27 4135.35    0.19        -0.13    -0.65    -0.67   \n",
       "5866 2023-04-28 4169.48    0.19        -0.12    -0.52    -0.68   \n",
       "5867 2023-05-01 4167.87    0.17        -0.15    -0.50    -0.69   \n",
       "\n",
       "      1MonPriceReturn  3MonPriceReturn  6MonPriceReturn  12MonPriceReturn   \n",
       "0               -0.03             0.03             0.01             -0.12  \\\n",
       "1                0.02             0.07             0.03             -0.04   \n",
       "2                0.02             0.06             0.04             -0.05   \n",
       "3                0.01             0.07             0.05             -0.07   \n",
       "4                0.00             0.05             0.02             -0.10   \n",
       "...               ...              ...              ...               ...   \n",
       "5863              NaN              NaN              NaN               NaN   \n",
       "5864              NaN              NaN              NaN               NaN   \n",
       "5865              NaN              NaN              NaN               NaN   \n",
       "5866              NaN              NaN              NaN               NaN   \n",
       "5867              NaN              NaN              NaN               NaN   \n",
       "\n",
       "      Stress sum  Stress avg  Credit Win103  Safe assets Win103   \n",
       "0           1.68        0.56            NaN                 NaN  \\\n",
       "1           1.78        0.59            NaN                 NaN   \n",
       "2           1.73        0.58            NaN                 NaN   \n",
       "3           1.69        0.56            NaN                 NaN   \n",
       "4           1.75        0.58            NaN                 NaN   \n",
       "...          ...         ...            ...                 ...   \n",
       "5863       -0.41       -0.14          -0.00                0.01   \n",
       "5864       -0.36       -0.12          -0.00                0.01   \n",
       "5865       -0.58       -0.19          -0.00                0.01   \n",
       "5866       -0.44       -0.15          -0.00                0.01   \n",
       "5867       -0.48       -0.16          -0.00                0.01   \n",
       "\n",
       "      Funding Win103  Stress slope avg  Stress slope sum  \n",
       "0                NaN               NaN               NaN  \n",
       "1                NaN               NaN               NaN  \n",
       "2                NaN               NaN               NaN  \n",
       "3                NaN               NaN               NaN  \n",
       "4                NaN               NaN               NaN  \n",
       "...              ...               ...               ...  \n",
       "5863           -0.00              0.00              0.00  \n",
       "5864           -0.00              0.00              0.00  \n",
       "5865           -0.00              0.00              0.00  \n",
       "5866           -0.00              0.00              0.00  \n",
       "5867           -0.00              0.00              0.00  \n",
       "\n",
       "[5868 rows x 17 columns]"
      ]
     },
     "execution_count": 100,
     "metadata": {},
     "output_type": "execute_result"
    }
   ],
   "source": [
    "clean_w_slope "
   ]
  },
  {
   "cell_type": "markdown",
   "id": "8b525253",
   "metadata": {},
   "source": [
    "# Graph Correlations (Single-Column to S&P Price Returns)"
   ]
  },
  {
   "cell_type": "code",
   "execution_count": 101,
   "id": "949df5bc",
   "metadata": {},
   "outputs": [
    {
     "data": {
      "application/vnd.plotly.v1+json": {
       "config": {
        "plotlyServerURL": "https://plotly.com"
       },
       "data": [
        {
         "colorscale": [
          [
           0,
           "#440154"
          ],
          [
           0.1111111111111111,
           "#482878"
          ],
          [
           0.2222222222222222,
           "#3e4989"
          ],
          [
           0.3333333333333333,
           "#31688e"
          ],
          [
           0.4444444444444444,
           "#26828e"
          ],
          [
           0.5555555555555556,
           "#1f9e89"
          ],
          [
           0.6666666666666666,
           "#35b779"
          ],
          [
           0.7777777777777778,
           "#6ece58"
          ],
          [
           0.8888888888888888,
           "#b5de2b"
          ],
          [
           1,
           "#fde725"
          ]
         ],
         "type": "heatmap",
         "x": [
          "1MonPriceReturn",
          "3MonPriceReturn",
          "6MonPriceReturn",
          "12MonPriceReturn"
         ],
         "y": [
          "Credit",
          "Safe assets",
          "Funding",
          "Credit Win103",
          "Safe assets Win103",
          "Funding Win103",
          "Stress sum",
          "Stress avg",
          "Stress slope avg",
          "Stress slope sum"
         ],
         "z": [
          [
           -0.09229280038311641,
           -0.18178489524843464,
           -0.16510298305290397,
           -0.09313536644923619
          ],
          [
           0.04762589904111614,
           0.08999164657486187,
           0.10058774228356085,
           0.0987513079770164
          ],
          [
           -0.13361914172840814,
           -0.24390862857724926,
           -0.254920822318237,
           -0.1537932777929548
          ],
          [
           -0.11051869269526829,
           -0.22647320255919584,
           -0.24454575623397856,
           -0.21102086399506315
          ],
          [
           0.04843781707184487,
           0.09360768855727816,
           0.04047404354664656,
           -0.043457851802106685
          ],
          [
           -0.1541811754674926,
           -0.2874624119877132,
           -0.35767482253381977,
           -0.3046068665988679
          ],
          [
           -0.10420090183535974,
           -0.19764776706643303,
           -0.19088640729342274,
           -0.10627644924100282
          ],
          [
           -0.10420090183536036,
           -0.19764776706643233,
           -0.1908864072934229,
           -0.10627644924100314
          ],
          [
           -0.12488506309071119,
           -0.2441982634379736,
           -0.29612008245920035,
           -0.2676612878220549
          ],
          [
           -0.12488506309071151,
           -0.24419826343797424,
           -0.2961200824591982,
           -0.26766128782205517
          ]
         ]
        }
       ],
       "layout": {
        "font": {
         "size": 30
        },
        "height": 1000,
        "template": {
         "data": {
          "bar": [
           {
            "error_x": {
             "color": "#2a3f5f"
            },
            "error_y": {
             "color": "#2a3f5f"
            },
            "marker": {
             "line": {
              "color": "#E5ECF6",
              "width": 0.5
             },
             "pattern": {
              "fillmode": "overlay",
              "size": 10,
              "solidity": 0.2
             }
            },
            "type": "bar"
           }
          ],
          "barpolar": [
           {
            "marker": {
             "line": {
              "color": "#E5ECF6",
              "width": 0.5
             },
             "pattern": {
              "fillmode": "overlay",
              "size": 10,
              "solidity": 0.2
             }
            },
            "type": "barpolar"
           }
          ],
          "carpet": [
           {
            "aaxis": {
             "endlinecolor": "#2a3f5f",
             "gridcolor": "white",
             "linecolor": "white",
             "minorgridcolor": "white",
             "startlinecolor": "#2a3f5f"
            },
            "baxis": {
             "endlinecolor": "#2a3f5f",
             "gridcolor": "white",
             "linecolor": "white",
             "minorgridcolor": "white",
             "startlinecolor": "#2a3f5f"
            },
            "type": "carpet"
           }
          ],
          "choropleth": [
           {
            "colorbar": {
             "outlinewidth": 0,
             "ticks": ""
            },
            "type": "choropleth"
           }
          ],
          "contour": [
           {
            "colorbar": {
             "outlinewidth": 0,
             "ticks": ""
            },
            "colorscale": [
             [
              0,
              "#0d0887"
             ],
             [
              0.1111111111111111,
              "#46039f"
             ],
             [
              0.2222222222222222,
              "#7201a8"
             ],
             [
              0.3333333333333333,
              "#9c179e"
             ],
             [
              0.4444444444444444,
              "#bd3786"
             ],
             [
              0.5555555555555556,
              "#d8576b"
             ],
             [
              0.6666666666666666,
              "#ed7953"
             ],
             [
              0.7777777777777778,
              "#fb9f3a"
             ],
             [
              0.8888888888888888,
              "#fdca26"
             ],
             [
              1,
              "#f0f921"
             ]
            ],
            "type": "contour"
           }
          ],
          "contourcarpet": [
           {
            "colorbar": {
             "outlinewidth": 0,
             "ticks": ""
            },
            "type": "contourcarpet"
           }
          ],
          "heatmap": [
           {
            "colorbar": {
             "outlinewidth": 0,
             "ticks": ""
            },
            "colorscale": [
             [
              0,
              "#0d0887"
             ],
             [
              0.1111111111111111,
              "#46039f"
             ],
             [
              0.2222222222222222,
              "#7201a8"
             ],
             [
              0.3333333333333333,
              "#9c179e"
             ],
             [
              0.4444444444444444,
              "#bd3786"
             ],
             [
              0.5555555555555556,
              "#d8576b"
             ],
             [
              0.6666666666666666,
              "#ed7953"
             ],
             [
              0.7777777777777778,
              "#fb9f3a"
             ],
             [
              0.8888888888888888,
              "#fdca26"
             ],
             [
              1,
              "#f0f921"
             ]
            ],
            "type": "heatmap"
           }
          ],
          "heatmapgl": [
           {
            "colorbar": {
             "outlinewidth": 0,
             "ticks": ""
            },
            "colorscale": [
             [
              0,
              "#0d0887"
             ],
             [
              0.1111111111111111,
              "#46039f"
             ],
             [
              0.2222222222222222,
              "#7201a8"
             ],
             [
              0.3333333333333333,
              "#9c179e"
             ],
             [
              0.4444444444444444,
              "#bd3786"
             ],
             [
              0.5555555555555556,
              "#d8576b"
             ],
             [
              0.6666666666666666,
              "#ed7953"
             ],
             [
              0.7777777777777778,
              "#fb9f3a"
             ],
             [
              0.8888888888888888,
              "#fdca26"
             ],
             [
              1,
              "#f0f921"
             ]
            ],
            "type": "heatmapgl"
           }
          ],
          "histogram": [
           {
            "marker": {
             "pattern": {
              "fillmode": "overlay",
              "size": 10,
              "solidity": 0.2
             }
            },
            "type": "histogram"
           }
          ],
          "histogram2d": [
           {
            "colorbar": {
             "outlinewidth": 0,
             "ticks": ""
            },
            "colorscale": [
             [
              0,
              "#0d0887"
             ],
             [
              0.1111111111111111,
              "#46039f"
             ],
             [
              0.2222222222222222,
              "#7201a8"
             ],
             [
              0.3333333333333333,
              "#9c179e"
             ],
             [
              0.4444444444444444,
              "#bd3786"
             ],
             [
              0.5555555555555556,
              "#d8576b"
             ],
             [
              0.6666666666666666,
              "#ed7953"
             ],
             [
              0.7777777777777778,
              "#fb9f3a"
             ],
             [
              0.8888888888888888,
              "#fdca26"
             ],
             [
              1,
              "#f0f921"
             ]
            ],
            "type": "histogram2d"
           }
          ],
          "histogram2dcontour": [
           {
            "colorbar": {
             "outlinewidth": 0,
             "ticks": ""
            },
            "colorscale": [
             [
              0,
              "#0d0887"
             ],
             [
              0.1111111111111111,
              "#46039f"
             ],
             [
              0.2222222222222222,
              "#7201a8"
             ],
             [
              0.3333333333333333,
              "#9c179e"
             ],
             [
              0.4444444444444444,
              "#bd3786"
             ],
             [
              0.5555555555555556,
              "#d8576b"
             ],
             [
              0.6666666666666666,
              "#ed7953"
             ],
             [
              0.7777777777777778,
              "#fb9f3a"
             ],
             [
              0.8888888888888888,
              "#fdca26"
             ],
             [
              1,
              "#f0f921"
             ]
            ],
            "type": "histogram2dcontour"
           }
          ],
          "mesh3d": [
           {
            "colorbar": {
             "outlinewidth": 0,
             "ticks": ""
            },
            "type": "mesh3d"
           }
          ],
          "parcoords": [
           {
            "line": {
             "colorbar": {
              "outlinewidth": 0,
              "ticks": ""
             }
            },
            "type": "parcoords"
           }
          ],
          "pie": [
           {
            "automargin": true,
            "type": "pie"
           }
          ],
          "scatter": [
           {
            "fillpattern": {
             "fillmode": "overlay",
             "size": 10,
             "solidity": 0.2
            },
            "type": "scatter"
           }
          ],
          "scatter3d": [
           {
            "line": {
             "colorbar": {
              "outlinewidth": 0,
              "ticks": ""
             }
            },
            "marker": {
             "colorbar": {
              "outlinewidth": 0,
              "ticks": ""
             }
            },
            "type": "scatter3d"
           }
          ],
          "scattercarpet": [
           {
            "marker": {
             "colorbar": {
              "outlinewidth": 0,
              "ticks": ""
             }
            },
            "type": "scattercarpet"
           }
          ],
          "scattergeo": [
           {
            "marker": {
             "colorbar": {
              "outlinewidth": 0,
              "ticks": ""
             }
            },
            "type": "scattergeo"
           }
          ],
          "scattergl": [
           {
            "marker": {
             "colorbar": {
              "outlinewidth": 0,
              "ticks": ""
             }
            },
            "type": "scattergl"
           }
          ],
          "scattermapbox": [
           {
            "marker": {
             "colorbar": {
              "outlinewidth": 0,
              "ticks": ""
             }
            },
            "type": "scattermapbox"
           }
          ],
          "scatterpolar": [
           {
            "marker": {
             "colorbar": {
              "outlinewidth": 0,
              "ticks": ""
             }
            },
            "type": "scatterpolar"
           }
          ],
          "scatterpolargl": [
           {
            "marker": {
             "colorbar": {
              "outlinewidth": 0,
              "ticks": ""
             }
            },
            "type": "scatterpolargl"
           }
          ],
          "scatterternary": [
           {
            "marker": {
             "colorbar": {
              "outlinewidth": 0,
              "ticks": ""
             }
            },
            "type": "scatterternary"
           }
          ],
          "surface": [
           {
            "colorbar": {
             "outlinewidth": 0,
             "ticks": ""
            },
            "colorscale": [
             [
              0,
              "#0d0887"
             ],
             [
              0.1111111111111111,
              "#46039f"
             ],
             [
              0.2222222222222222,
              "#7201a8"
             ],
             [
              0.3333333333333333,
              "#9c179e"
             ],
             [
              0.4444444444444444,
              "#bd3786"
             ],
             [
              0.5555555555555556,
              "#d8576b"
             ],
             [
              0.6666666666666666,
              "#ed7953"
             ],
             [
              0.7777777777777778,
              "#fb9f3a"
             ],
             [
              0.8888888888888888,
              "#fdca26"
             ],
             [
              1,
              "#f0f921"
             ]
            ],
            "type": "surface"
           }
          ],
          "table": [
           {
            "cells": {
             "fill": {
              "color": "#EBF0F8"
             },
             "line": {
              "color": "white"
             }
            },
            "header": {
             "fill": {
              "color": "#C8D4E3"
             },
             "line": {
              "color": "white"
             }
            },
            "type": "table"
           }
          ]
         },
         "layout": {
          "annotationdefaults": {
           "arrowcolor": "#2a3f5f",
           "arrowhead": 0,
           "arrowwidth": 1
          },
          "autotypenumbers": "strict",
          "coloraxis": {
           "colorbar": {
            "outlinewidth": 0,
            "ticks": ""
           }
          },
          "colorscale": {
           "diverging": [
            [
             0,
             "#8e0152"
            ],
            [
             0.1,
             "#c51b7d"
            ],
            [
             0.2,
             "#de77ae"
            ],
            [
             0.3,
             "#f1b6da"
            ],
            [
             0.4,
             "#fde0ef"
            ],
            [
             0.5,
             "#f7f7f7"
            ],
            [
             0.6,
             "#e6f5d0"
            ],
            [
             0.7,
             "#b8e186"
            ],
            [
             0.8,
             "#7fbc41"
            ],
            [
             0.9,
             "#4d9221"
            ],
            [
             1,
             "#276419"
            ]
           ],
           "sequential": [
            [
             0,
             "#0d0887"
            ],
            [
             0.1111111111111111,
             "#46039f"
            ],
            [
             0.2222222222222222,
             "#7201a8"
            ],
            [
             0.3333333333333333,
             "#9c179e"
            ],
            [
             0.4444444444444444,
             "#bd3786"
            ],
            [
             0.5555555555555556,
             "#d8576b"
            ],
            [
             0.6666666666666666,
             "#ed7953"
            ],
            [
             0.7777777777777778,
             "#fb9f3a"
            ],
            [
             0.8888888888888888,
             "#fdca26"
            ],
            [
             1,
             "#f0f921"
            ]
           ],
           "sequentialminus": [
            [
             0,
             "#0d0887"
            ],
            [
             0.1111111111111111,
             "#46039f"
            ],
            [
             0.2222222222222222,
             "#7201a8"
            ],
            [
             0.3333333333333333,
             "#9c179e"
            ],
            [
             0.4444444444444444,
             "#bd3786"
            ],
            [
             0.5555555555555556,
             "#d8576b"
            ],
            [
             0.6666666666666666,
             "#ed7953"
            ],
            [
             0.7777777777777778,
             "#fb9f3a"
            ],
            [
             0.8888888888888888,
             "#fdca26"
            ],
            [
             1,
             "#f0f921"
            ]
           ]
          },
          "colorway": [
           "#636efa",
           "#EF553B",
           "#00cc96",
           "#ab63fa",
           "#FFA15A",
           "#19d3f3",
           "#FF6692",
           "#B6E880",
           "#FF97FF",
           "#FECB52"
          ],
          "font": {
           "color": "#2a3f5f"
          },
          "geo": {
           "bgcolor": "white",
           "lakecolor": "white",
           "landcolor": "#E5ECF6",
           "showlakes": true,
           "showland": true,
           "subunitcolor": "white"
          },
          "hoverlabel": {
           "align": "left"
          },
          "hovermode": "closest",
          "mapbox": {
           "style": "light"
          },
          "paper_bgcolor": "white",
          "plot_bgcolor": "#E5ECF6",
          "polar": {
           "angularaxis": {
            "gridcolor": "white",
            "linecolor": "white",
            "ticks": ""
           },
           "bgcolor": "#E5ECF6",
           "radialaxis": {
            "gridcolor": "white",
            "linecolor": "white",
            "ticks": ""
           }
          },
          "scene": {
           "xaxis": {
            "backgroundcolor": "#E5ECF6",
            "gridcolor": "white",
            "gridwidth": 2,
            "linecolor": "white",
            "showbackground": true,
            "ticks": "",
            "zerolinecolor": "white"
           },
           "yaxis": {
            "backgroundcolor": "#E5ECF6",
            "gridcolor": "white",
            "gridwidth": 2,
            "linecolor": "white",
            "showbackground": true,
            "ticks": "",
            "zerolinecolor": "white"
           },
           "zaxis": {
            "backgroundcolor": "#E5ECF6",
            "gridcolor": "white",
            "gridwidth": 2,
            "linecolor": "white",
            "showbackground": true,
            "ticks": "",
            "zerolinecolor": "white"
           }
          },
          "shapedefaults": {
           "line": {
            "color": "#2a3f5f"
           }
          },
          "ternary": {
           "aaxis": {
            "gridcolor": "white",
            "linecolor": "white",
            "ticks": ""
           },
           "baxis": {
            "gridcolor": "white",
            "linecolor": "white",
            "ticks": ""
           },
           "bgcolor": "#E5ECF6",
           "caxis": {
            "gridcolor": "white",
            "linecolor": "white",
            "ticks": ""
           }
          },
          "title": {
           "x": 0.05
          },
          "xaxis": {
           "automargin": true,
           "gridcolor": "white",
           "linecolor": "white",
           "ticks": "",
           "title": {
            "standoff": 15
           },
           "zerolinecolor": "white",
           "zerolinewidth": 2
          },
          "yaxis": {
           "automargin": true,
           "gridcolor": "white",
           "linecolor": "white",
           "ticks": "",
           "title": {
            "standoff": 15
           },
           "zerolinecolor": "white",
           "zerolinewidth": 2
          }
         }
        },
        "width": 1500,
        "xaxis": {
         "gridcolor": "white",
         "gridwidth": 1,
         "showgrid": true,
         "tickangle": 45,
         "tickfont": {
          "size": 25
         }
        },
        "yaxis": {
         "gridcolor": "white",
         "gridwidth": 1,
         "showgrid": true,
         "tickfont": {
          "size": 25
         }
        }
       }
      }
     },
     "metadata": {},
     "output_type": "display_data"
    }
   ],
   "source": [
    "import plotly.graph_objects as go \n",
    "\n",
    "# create a heatmap of the correlation matrix using Plotly\n",
    "corr_matrix = clean_w_slope.loc[:, ['Credit', 'Safe assets', 'Funding', f'Credit Win{best_window_size}', f'Safe assets Win{best_window_size}', f'Funding Win{best_window_size}', 'Stress sum', 'Stress avg','Stress slope avg', 'Stress slope sum','1MonPriceReturn', '3MonPriceReturn', '6MonPriceReturn', '12MonPriceReturn']].corr()\n",
    "cmat = corr_matrix.loc[:, ['1MonPriceReturn', '3MonPriceReturn', '6MonPriceReturn', '12MonPriceReturn']].iloc[:10]\n",
    "\n",
    "fig = go.Figure(data=go.Heatmap(\n",
    "                   z=cmat.values,\n",
    "                   x=cmat.columns,\n",
    "                   y=cmat.index,\n",
    "                   colorscale='Viridis'))\n",
    "\n",
    "# update the layout to make the plot larger, increase font size, and add lines to separate rectangles\n",
    "fig.update_layout(\n",
    "    width=1500,\n",
    "    height=1000,\n",
    "    font=dict(\n",
    "        size=30,\n",
    "    ),\n",
    "    xaxis=dict(\n",
    "        showgrid=True,\n",
    "        gridwidth=1,\n",
    "        gridcolor='white',\n",
    "        tickangle=45,\n",
    "        tickfont=dict(\n",
    "            size=25,\n",
    "        )\n",
    "    ),\n",
    "    yaxis=dict(\n",
    "        showgrid=True,\n",
    "        gridwidth=1,\n",
    "        gridcolor='white',\n",
    "        tickfont=dict(\n",
    "            size=25,\n",
    "        )\n",
    "    )\n",
    ")\n",
    "\n",
    "# show the plot\n",
    "fig.show()\n"
   ]
  },
  {
   "attachments": {},
   "cell_type": "markdown",
   "id": "7d98c8da",
   "metadata": {},
   "source": [
    "##  Text format correlations (Single Column to S&P Price Returns)"
   ]
  },
  {
   "cell_type": "code",
   "execution_count": 36,
   "id": "287749ef",
   "metadata": {},
   "outputs": [
    {
     "data": {
      "text/html": [
       "<div>\n",
       "<style scoped>\n",
       "    .dataframe tbody tr th:only-of-type {\n",
       "        vertical-align: middle;\n",
       "    }\n",
       "\n",
       "    .dataframe tbody tr th {\n",
       "        vertical-align: top;\n",
       "    }\n",
       "\n",
       "    .dataframe thead th {\n",
       "        text-align: right;\n",
       "    }\n",
       "</style>\n",
       "<table border=\"1\" class=\"dataframe\">\n",
       "  <thead>\n",
       "    <tr style=\"text-align: right;\">\n",
       "      <th></th>\n",
       "      <th>1MonPriceReturn</th>\n",
       "      <th>3MonPriceReturn</th>\n",
       "      <th>6MonPriceReturn</th>\n",
       "      <th>12MonPriceReturn</th>\n",
       "      <th>1MonPriceReturn</th>\n",
       "    </tr>\n",
       "  </thead>\n",
       "  <tbody>\n",
       "    <tr>\n",
       "      <th>Credit</th>\n",
       "      <td>-0.09</td>\n",
       "      <td>-0.18</td>\n",
       "      <td>-0.17</td>\n",
       "      <td>-0.09</td>\n",
       "      <td>-0.09</td>\n",
       "    </tr>\n",
       "    <tr>\n",
       "      <th>Safe assets</th>\n",
       "      <td>0.05</td>\n",
       "      <td>0.09</td>\n",
       "      <td>0.10</td>\n",
       "      <td>0.10</td>\n",
       "      <td>0.05</td>\n",
       "    </tr>\n",
       "    <tr>\n",
       "      <th>Funding</th>\n",
       "      <td>-0.13</td>\n",
       "      <td>-0.24</td>\n",
       "      <td>-0.25</td>\n",
       "      <td>-0.15</td>\n",
       "      <td>-0.13</td>\n",
       "    </tr>\n",
       "    <tr>\n",
       "      <th>Stress sum</th>\n",
       "      <td>-0.10</td>\n",
       "      <td>-0.20</td>\n",
       "      <td>-0.19</td>\n",
       "      <td>-0.11</td>\n",
       "      <td>-0.10</td>\n",
       "    </tr>\n",
       "    <tr>\n",
       "      <th>Stress avg</th>\n",
       "      <td>-0.10</td>\n",
       "      <td>-0.20</td>\n",
       "      <td>-0.19</td>\n",
       "      <td>-0.11</td>\n",
       "      <td>-0.10</td>\n",
       "    </tr>\n",
       "  </tbody>\n",
       "</table>\n",
       "</div>"
      ],
      "text/plain": [
       "             1MonPriceReturn  3MonPriceReturn  6MonPriceReturn   \n",
       "Credit                 -0.09            -0.18            -0.17  \\\n",
       "Safe assets             0.05             0.09             0.10   \n",
       "Funding                -0.13            -0.24            -0.25   \n",
       "Stress sum             -0.10            -0.20            -0.19   \n",
       "Stress avg             -0.10            -0.20            -0.19   \n",
       "\n",
       "             12MonPriceReturn  1MonPriceReturn  \n",
       "Credit                  -0.09            -0.09  \n",
       "Safe assets              0.10             0.05  \n",
       "Funding                 -0.15            -0.13  \n",
       "Stress sum              -0.11            -0.10  \n",
       "Stress avg              -0.11            -0.10  "
      ]
     },
     "execution_count": 36,
     "metadata": {},
     "output_type": "execute_result"
    }
   ],
   "source": [
    "cmat"
   ]
  },
  {
   "attachments": {},
   "cell_type": "markdown",
   "id": "40330102",
   "metadata": {},
   "source": [
    "# S&P and Funding (Pure Value)"
   ]
  },
  {
   "cell_type": "code",
   "execution_count": 70,
   "id": "8e26d36b",
   "metadata": {},
   "outputs": [
    {
     "data": {
      "image/png": "[encoded data removed]",
      "text/plain": [
       "<Figure size 640x480 with 1 Axes>"
      ]
     },
     "metadata": {},
     "output_type": "display_data"
    }
   ],
   "source": [
    "spdf = clean_data.copy(deep=True)\n",
    "spdf.set_index('Date', inplace = True)\n",
    "spdf = spdf.loc[:, ['Funding', '3MonPriceReturn', '12MonPriceReturn']]\n",
    "\n",
    "# spdf.head()\n",
    "spdf.plot();\n"
   ]
  },
  {
   "attachments": {},
   "cell_type": "markdown",
   "id": "57833f16",
   "metadata": {},
   "source": [
    "# S&P and Funding (Scaled between 1 and 0 for reaability)"
   ]
  },
  {
   "cell_type": "code",
   "execution_count": 73,
   "id": "bbde04c6",
   "metadata": {},
   "outputs": [
    {
     "data": {
      "text/plain": [
       "<Axes: >"
      ]
     },
     "execution_count": 73,
     "metadata": {},
     "output_type": "execute_result"
    },
    {
     "data": {
      "image/png": "[encoded data removed]",
      "text/plain": [
       "<Figure size 1000x1000 with 1 Axes>"
      ]
     },
     "metadata": {},
     "output_type": "display_data"
    }
   ],
   "source": [
    "from sklearn.preprocessing import MinMaxScaler\n",
    "\n",
    "scaler = MinMaxScaler()  # create a MinMaxScaler object\n",
    "spdf_cols = spdf.columns.tolist()\n",
    "scaled_df = scaler.fit_transform(spdf)  # apply scaling to the specified columns\n",
    "scaled_df = pd.DataFrame(scaled_df, columns=spdf.columns)\n",
    "scaled_df.plot(figsize = (10, 10))"
   ]
  },
  {
   "attachments": {},
   "cell_type": "markdown",
   "id": "7e2e86b9",
   "metadata": {},
   "source": [
    "# AI Models "
   ]
  },
  {
   "cell_type": "code",
   "execution_count": 23,
   "id": "7477556e",
   "metadata": {},
   "outputs": [],
   "source": [
    "import matplotlib.pyplot as plt\n",
    "from sklearn.model_selection import train_test_split\n",
    "from sklearn.ensemble import RandomForestClassifier\n",
    "from sklearn.metrics import accuracy_score, classification_report, confusion_matrix\n",
    "import seaborn as sns\n",
    "\n",
    "tolerance = 0 # Change if prefer a certain number > 0 \n",
    "\n",
    "# Split the data into training and testing sets\n",
    "X = clean_data.drop(['3MonPriceReturn', '6MonPriceReturn', '12MonPriceReturn', '36MonPriceReturn', '60MonPriceReturn', '120MonPriceReturn', 'OFR FSI', 'Stress sum', 'Stress avg', 'Date', 'Close'], axis=1) # Only features we train on are Credit, Safe Assets, and Funding\n",
    "y = (clean_data[['3MonPriceReturn', '6MonPriceReturn', '12MonPriceReturn']] > tolerance).any(axis=1).astype(int) \n",
    "\n",
    "X_train, X_test, y_train, y_test = train_test_split(X, y, test_size=0.2, random_state=42)"
   ]
  },
  {
   "cell_type": "code",
   "execution_count": 24,
   "id": "a851392a",
   "metadata": {},
   "outputs": [
    {
     "data": {
      "text/html": [
       "<div>\n",
       "<style scoped>\n",
       "    .dataframe tbody tr th:only-of-type {\n",
       "        vertical-align: middle;\n",
       "    }\n",
       "\n",
       "    .dataframe tbody tr th {\n",
       "        vertical-align: top;\n",
       "    }\n",
       "\n",
       "    .dataframe thead th {\n",
       "        text-align: right;\n",
       "    }\n",
       "</style>\n",
       "<table border=\"1\" class=\"dataframe\">\n",
       "  <thead>\n",
       "    <tr style=\"text-align: right;\">\n",
       "      <th></th>\n",
       "      <th>Date</th>\n",
       "      <th>Close</th>\n",
       "      <th>Credit</th>\n",
       "      <th>Safe assets</th>\n",
       "      <th>Funding</th>\n",
       "      <th>OFR FSI</th>\n",
       "      <th>3MonPriceReturn</th>\n",
       "      <th>6MonPriceReturn</th>\n",
       "      <th>12MonPriceReturn</th>\n",
       "      <th>36MonPriceReturn</th>\n",
       "      <th>60MonPriceReturn</th>\n",
       "      <th>120MonPriceReturn</th>\n",
       "      <th>Stress sum</th>\n",
       "      <th>Stress avg</th>\n",
       "    </tr>\n",
       "  </thead>\n",
       "  <tbody>\n",
       "    <tr>\n",
       "      <th>0</th>\n",
       "      <td>2000-01-03</td>\n",
       "      <td>1455.22</td>\n",
       "      <td>0.54</td>\n",
       "      <td>0.67</td>\n",
       "      <td>0.47</td>\n",
       "      <td>2.14</td>\n",
       "      <td>0.03</td>\n",
       "      <td>0.01</td>\n",
       "      <td>-0.12</td>\n",
       "      <td>-0.37</td>\n",
       "      <td>-0.18</td>\n",
       "      <td>-0.21</td>\n",
       "      <td>1.68</td>\n",
       "      <td>0.56</td>\n",
       "    </tr>\n",
       "    <tr>\n",
       "      <th>1</th>\n",
       "      <td>2000-01-04</td>\n",
       "      <td>1399.42</td>\n",
       "      <td>0.60</td>\n",
       "      <td>0.63</td>\n",
       "      <td>0.55</td>\n",
       "      <td>2.42</td>\n",
       "      <td>0.07</td>\n",
       "      <td>0.03</td>\n",
       "      <td>-0.04</td>\n",
       "      <td>-0.34</td>\n",
       "      <td>-0.15</td>\n",
       "      <td>-0.19</td>\n",
       "      <td>1.78</td>\n",
       "      <td>0.59</td>\n",
       "    </tr>\n",
       "    <tr>\n",
       "      <th>2</th>\n",
       "      <td>2000-01-05</td>\n",
       "      <td>1402.11</td>\n",
       "      <td>0.57</td>\n",
       "      <td>0.65</td>\n",
       "      <td>0.50</td>\n",
       "      <td>2.30</td>\n",
       "      <td>0.06</td>\n",
       "      <td>0.04</td>\n",
       "      <td>-0.05</td>\n",
       "      <td>-0.34</td>\n",
       "      <td>-0.16</td>\n",
       "      <td>-0.18</td>\n",
       "      <td>1.73</td>\n",
       "      <td>0.58</td>\n",
       "    </tr>\n",
       "    <tr>\n",
       "      <th>3</th>\n",
       "      <td>2000-01-06</td>\n",
       "      <td>1403.45</td>\n",
       "      <td>0.55</td>\n",
       "      <td>0.58</td>\n",
       "      <td>0.57</td>\n",
       "      <td>2.29</td>\n",
       "      <td>0.07</td>\n",
       "      <td>0.05</td>\n",
       "      <td>-0.07</td>\n",
       "      <td>-0.34</td>\n",
       "      <td>-0.15</td>\n",
       "      <td>-0.18</td>\n",
       "      <td>1.69</td>\n",
       "      <td>0.56</td>\n",
       "    </tr>\n",
       "    <tr>\n",
       "      <th>4</th>\n",
       "      <td>2000-01-07</td>\n",
       "      <td>1441.47</td>\n",
       "      <td>0.66</td>\n",
       "      <td>0.52</td>\n",
       "      <td>0.56</td>\n",
       "      <td>2.00</td>\n",
       "      <td>0.05</td>\n",
       "      <td>0.02</td>\n",
       "      <td>-0.10</td>\n",
       "      <td>-0.35</td>\n",
       "      <td>-0.18</td>\n",
       "      <td>-0.21</td>\n",
       "      <td>1.75</td>\n",
       "      <td>0.58</td>\n",
       "    </tr>\n",
       "    <tr>\n",
       "      <th>...</th>\n",
       "      <td>...</td>\n",
       "      <td>...</td>\n",
       "      <td>...</td>\n",
       "      <td>...</td>\n",
       "      <td>...</td>\n",
       "      <td>...</td>\n",
       "      <td>...</td>\n",
       "      <td>...</td>\n",
       "      <td>...</td>\n",
       "      <td>...</td>\n",
       "      <td>...</td>\n",
       "      <td>...</td>\n",
       "      <td>...</td>\n",
       "      <td>...</td>\n",
       "    </tr>\n",
       "    <tr>\n",
       "      <th>5863</th>\n",
       "      <td>2023-04-25</td>\n",
       "      <td>4071.63</td>\n",
       "      <td>0.22</td>\n",
       "      <td>-0.09</td>\n",
       "      <td>-0.53</td>\n",
       "      <td>-0.35</td>\n",
       "      <td>NaN</td>\n",
       "      <td>NaN</td>\n",
       "      <td>NaN</td>\n",
       "      <td>NaN</td>\n",
       "      <td>NaN</td>\n",
       "      <td>NaN</td>\n",
       "      <td>-0.41</td>\n",
       "      <td>-0.14</td>\n",
       "    </tr>\n",
       "    <tr>\n",
       "      <th>5864</th>\n",
       "      <td>2023-04-26</td>\n",
       "      <td>4055.99</td>\n",
       "      <td>0.23</td>\n",
       "      <td>-0.10</td>\n",
       "      <td>-0.49</td>\n",
       "      <td>-0.26</td>\n",
       "      <td>NaN</td>\n",
       "      <td>NaN</td>\n",
       "      <td>NaN</td>\n",
       "      <td>NaN</td>\n",
       "      <td>NaN</td>\n",
       "      <td>NaN</td>\n",
       "      <td>-0.36</td>\n",
       "      <td>-0.12</td>\n",
       "    </tr>\n",
       "    <tr>\n",
       "      <th>5865</th>\n",
       "      <td>2023-04-27</td>\n",
       "      <td>4135.35</td>\n",
       "      <td>0.19</td>\n",
       "      <td>-0.13</td>\n",
       "      <td>-0.65</td>\n",
       "      <td>-0.67</td>\n",
       "      <td>NaN</td>\n",
       "      <td>NaN</td>\n",
       "      <td>NaN</td>\n",
       "      <td>NaN</td>\n",
       "      <td>NaN</td>\n",
       "      <td>NaN</td>\n",
       "      <td>-0.58</td>\n",
       "      <td>-0.19</td>\n",
       "    </tr>\n",
       "    <tr>\n",
       "      <th>5866</th>\n",
       "      <td>2023-04-28</td>\n",
       "      <td>4169.48</td>\n",
       "      <td>0.19</td>\n",
       "      <td>-0.12</td>\n",
       "      <td>-0.52</td>\n",
       "      <td>-0.68</td>\n",
       "      <td>NaN</td>\n",
       "      <td>NaN</td>\n",
       "      <td>NaN</td>\n",
       "      <td>NaN</td>\n",
       "      <td>NaN</td>\n",
       "      <td>NaN</td>\n",
       "      <td>-0.44</td>\n",
       "      <td>-0.15</td>\n",
       "    </tr>\n",
       "    <tr>\n",
       "      <th>5867</th>\n",
       "      <td>2023-05-01</td>\n",
       "      <td>4167.87</td>\n",
       "      <td>0.17</td>\n",
       "      <td>-0.15</td>\n",
       "      <td>-0.50</td>\n",
       "      <td>-0.69</td>\n",
       "      <td>NaN</td>\n",
       "      <td>NaN</td>\n",
       "      <td>NaN</td>\n",
       "      <td>NaN</td>\n",
       "      <td>NaN</td>\n",
       "      <td>NaN</td>\n",
       "      <td>-0.48</td>\n",
       "      <td>-0.16</td>\n",
       "    </tr>\n",
       "  </tbody>\n",
       "</table>\n",
       "<p>5868 rows × 14 columns</p>\n",
       "</div>"
      ],
      "text/plain": [
       "           Date   Close  Credit  Safe assets  Funding  OFR FSI   \n",
       "0    2000-01-03 1455.22    0.54         0.67     0.47     2.14  \\\n",
       "1    2000-01-04 1399.42    0.60         0.63     0.55     2.42   \n",
       "2    2000-01-05 1402.11    0.57         0.65     0.50     2.30   \n",
       "3    2000-01-06 1403.45    0.55         0.58     0.57     2.29   \n",
       "4    2000-01-07 1441.47    0.66         0.52     0.56     2.00   \n",
       "...         ...     ...     ...          ...      ...      ...   \n",
       "5863 2023-04-25 4071.63    0.22        -0.09    -0.53    -0.35   \n",
       "5864 2023-04-26 4055.99    0.23        -0.10    -0.49    -0.26   \n",
       "5865 2023-04-27 4135.35    0.19        -0.13    -0.65    -0.67   \n",
       "5866 2023-04-28 4169.48    0.19        -0.12    -0.52    -0.68   \n",
       "5867 2023-05-01 4167.87    0.17        -0.15    -0.50    -0.69   \n",
       "\n",
       "      3MonPriceReturn  6MonPriceReturn  12MonPriceReturn  36MonPriceReturn   \n",
       "0                0.03             0.01             -0.12             -0.37  \\\n",
       "1                0.07             0.03             -0.04             -0.34   \n",
       "2                0.06             0.04             -0.05             -0.34   \n",
       "3                0.07             0.05             -0.07             -0.34   \n",
       "4                0.05             0.02             -0.10             -0.35   \n",
       "...               ...              ...               ...               ...   \n",
       "5863              NaN              NaN               NaN               NaN   \n",
       "5864              NaN              NaN               NaN               NaN   \n",
       "5865              NaN              NaN               NaN               NaN   \n",
       "5866              NaN              NaN               NaN               NaN   \n",
       "5867              NaN              NaN               NaN               NaN   \n",
       "\n",
       "      60MonPriceReturn  120MonPriceReturn  Stress sum  Stress avg  \n",
       "0                -0.18              -0.21        1.68        0.56  \n",
       "1                -0.15              -0.19        1.78        0.59  \n",
       "2                -0.16              -0.18        1.73        0.58  \n",
       "3                -0.15              -0.18        1.69        0.56  \n",
       "4                -0.18              -0.21        1.75        0.58  \n",
       "...                ...                ...         ...         ...  \n",
       "5863               NaN                NaN       -0.41       -0.14  \n",
       "5864               NaN                NaN       -0.36       -0.12  \n",
       "5865               NaN                NaN       -0.58       -0.19  \n",
       "5866               NaN                NaN       -0.44       -0.15  \n",
       "5867               NaN                NaN       -0.48       -0.16  \n",
       "\n",
       "[5868 rows x 14 columns]"
      ]
     },
     "execution_count": 24,
     "metadata": {},
     "output_type": "execute_result"
    }
   ],
   "source": [
    "clean_data "
   ]
  },
  {
   "cell_type": "code",
   "execution_count": 25,
   "id": "0679c4e7",
   "metadata": {},
   "outputs": [
    {
     "data": {
      "text/plain": [
       "(5868, 14)"
      ]
     },
     "execution_count": 25,
     "metadata": {},
     "output_type": "execute_result"
    }
   ],
   "source": [
    "clean_data.shape"
   ]
  },
  {
   "cell_type": "code",
   "execution_count": 26,
   "id": "900caed5",
   "metadata": {},
   "outputs": [
    {
     "name": "stdout",
     "output_type": "stream",
     "text": [
      "Accuracy: 0.9497444633730835\n",
      "Classification Report:\n",
      "               precision    recall  f1-score   support\n",
      "\n",
      "           0       0.89      0.82      0.85       207\n",
      "           1       0.96      0.98      0.97       967\n",
      "\n",
      "    accuracy                           0.95      1174\n",
      "   macro avg       0.93      0.90      0.91      1174\n",
      "weighted avg       0.95      0.95      0.95      1174\n",
      "\n",
      "Confusion Matrix:\n",
      " [[169  38]\n",
      " [ 21 946]]\n"
     ]
    },
    {
     "data": {
      "image/png": "[encoded data removed]",
      "text/plain": [
       "<Figure size 640x480 with 1 Axes>"
      ]
     },
     "metadata": {},
     "output_type": "display_data"
    },
    {
     "data": {
      "image/png": "[encoded data removed]",
      "text/plain": [
       "<Figure size 640x480 with 2 Axes>"
      ]
     },
     "metadata": {},
     "output_type": "display_data"
    }
   ],
   "source": [
    "\n",
    "# Train a random forest classifier\n",
    "rfc = RandomForestClassifier(n_estimators=50, random_state=42)\n",
    "rfc.fit(X_train, y_train)\n",
    "\n",
    "# Make predictions on the test set\n",
    "y_pred = rfc.predict(X_test)\n",
    "\n",
    "# Evaluate the performance of the model\n",
    "accuracy = accuracy_score(y_test, y_pred)\n",
    "print('Accuracy:', accuracy)\n",
    "print('Classification Report:\\n', classification_report(y_test, y_pred))\n",
    "print('Confusion Matrix:\\n', confusion_matrix(y_test, y_pred))\n",
    "\n",
    "# Plot feature importances\n",
    "feature_importances = pd.Series(rfc.feature_importances_, index=X.columns)\n",
    "feature_importances.nlargest(10).plot(kind='barh')\n",
    "plt.title('Feature Importances')\n",
    "plt.xlabel('Relative Importance')\n",
    "plt.ylabel('Feature')\n",
    "plt.show()\n",
    "\n",
    "\n",
    "# Plot confusion matrix\n",
    "sns.heatmap(confusion_matrix(y_test, y_pred), annot=True, cmap='Blues', fmt='g')\n",
    "plt.title('Confusion Matrix')\n",
    "plt.xlabel('Predicted Label')\n",
    "plt.ylabel('True Label')\n",
    "plt.show()\n"
   ]
  }
 ],
 "metadata": {
  "kernelspec": {
   "display_name": "Python 3 (ipykernel)",
   "language": "python",
   "name": "python3"
  },
  "language_info": {
   "codemirror_mode": {
    "name": "ipython",
    "version": 3
   },
   "file_extension": ".py",
   "mimetype": "text/x-python",
   "name": "python",
   "nbconvert_exporter": "python",
   "pygments_lexer": "ipython3",
   "version": "3.9.6"
  }
 },
 "nbformat": 4,
 "nbformat_minor": 5
}
